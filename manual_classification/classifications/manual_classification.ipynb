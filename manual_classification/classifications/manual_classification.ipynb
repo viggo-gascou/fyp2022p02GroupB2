{
 "cells": [
  {
   "cell_type": "code",
   "metadata": {
    "tags": [],
    "cell_id": "8eea87f2-9f84-4d77-a98d-f346fbb79731",
    "deepnote_to_be_reexecuted": false,
    "source_hash": "5baa6143",
    "execution_start": 1649160341399,
    "execution_millis": 0,
    "deepnote_cell_type": "code",
    "deepnote_cell_height": 153
   },
   "source": "import pandas as pd\nimport numpy as np\nimport matplotlib.pyplot as plt\nimport seaborn as sns\nfrom scipy.stats import pearsonr",
   "outputs": [],
   "execution_count": null
  },
  {
   "cell_type": "code",
   "source": "frida = pd.read_csv(\"frida_classification.csv\")\n\nmagnus = pd.read_csv(\"magnus_classification.csv\")\n\nmarie = pd.read_csv(\"marie_classification.csv\")\n\nviggo = pd.read_csv(\"viggo_classification.csv\")\n\ngustav = pd.read_csv(\"gustav_classification.csv\")\n\ngustav",
   "metadata": {
    "cell_id": "2cde42d8463748799013552050fed185",
    "tags": [],
    "deepnote_to_be_reexecuted": false,
    "source_hash": "253efa4f",
    "execution_start": 1649155255223,
    "execution_millis": 50,
    "deepnote_cell_type": "code",
    "deepnote_cell_height": 780
   },
   "outputs": [
    {
     "output_type": "execute_result",
     "execution_count": 53,
     "data": {
      "application/vnd.deepnote.dataframe.v3+json": {
       "column_count": 7,
       "row_count": 60,
       "columns": [
        {
         "name": "img",
         "dtype": "object",
         "stats": {
          "unique_count": 60,
          "nan_count": 0,
          "categories": [
           {
            "name": "ISIC_0001769.jpg",
            "count": 1
           },
           {
            "name": "ISIC_0001852.jpg",
            "count": 1
           },
           {
            "name": "58 others",
            "count": 58
           }
          ]
         }
        },
        {
         "name": "benign",
         "dtype": "int64",
         "stats": {
          "unique_count": 2,
          "nan_count": 0,
          "min": "0",
          "max": "1",
          "histogram": [
           {
            "bin_start": 0,
            "bin_end": 0.1,
            "count": 49
           },
           {
            "bin_start": 0.1,
            "bin_end": 0.2,
            "count": 0
           },
           {
            "bin_start": 0.2,
            "bin_end": 0.30000000000000004,
            "count": 0
           },
           {
            "bin_start": 0.30000000000000004,
            "bin_end": 0.4,
            "count": 0
           },
           {
            "bin_start": 0.4,
            "bin_end": 0.5,
            "count": 0
           },
           {
            "bin_start": 0.5,
            "bin_end": 0.6000000000000001,
            "count": 0
           },
           {
            "bin_start": 0.6000000000000001,
            "bin_end": 0.7000000000000001,
            "count": 0
           },
           {
            "bin_start": 0.7000000000000001,
            "bin_end": 0.8,
            "count": 0
           },
           {
            "bin_start": 0.8,
            "bin_end": 0.9,
            "count": 0
           },
           {
            "bin_start": 0.9,
            "bin_end": 1,
            "count": 11
           }
          ]
         }
        },
        {
         "name": "melanoma",
         "dtype": "int64",
         "stats": {
          "unique_count": 2,
          "nan_count": 0,
          "min": "0",
          "max": "1",
          "histogram": [
           {
            "bin_start": 0,
            "bin_end": 0.1,
            "count": 24
           },
           {
            "bin_start": 0.1,
            "bin_end": 0.2,
            "count": 0
           },
           {
            "bin_start": 0.2,
            "bin_end": 0.30000000000000004,
            "count": 0
           },
           {
            "bin_start": 0.30000000000000004,
            "bin_end": 0.4,
            "count": 0
           },
           {
            "bin_start": 0.4,
            "bin_end": 0.5,
            "count": 0
           },
           {
            "bin_start": 0.5,
            "bin_end": 0.6000000000000001,
            "count": 0
           },
           {
            "bin_start": 0.6000000000000001,
            "bin_end": 0.7000000000000001,
            "count": 0
           },
           {
            "bin_start": 0.7000000000000001,
            "bin_end": 0.8,
            "count": 0
           },
           {
            "bin_start": 0.8,
            "bin_end": 0.9,
            "count": 0
           },
           {
            "bin_start": 0.9,
            "bin_end": 1,
            "count": 36
           }
          ]
         }
        },
        {
         "name": "keratosis",
         "dtype": "int64",
         "stats": {
          "unique_count": 2,
          "nan_count": 0,
          "min": "0",
          "max": "1",
          "histogram": [
           {
            "bin_start": 0,
            "bin_end": 0.1,
            "count": 47
           },
           {
            "bin_start": 0.1,
            "bin_end": 0.2,
            "count": 0
           },
           {
            "bin_start": 0.2,
            "bin_end": 0.30000000000000004,
            "count": 0
           },
           {
            "bin_start": 0.30000000000000004,
            "bin_end": 0.4,
            "count": 0
           },
           {
            "bin_start": 0.4,
            "bin_end": 0.5,
            "count": 0
           },
           {
            "bin_start": 0.5,
            "bin_end": 0.6000000000000001,
            "count": 0
           },
           {
            "bin_start": 0.6000000000000001,
            "bin_end": 0.7000000000000001,
            "count": 0
           },
           {
            "bin_start": 0.7000000000000001,
            "bin_end": 0.8,
            "count": 0
           },
           {
            "bin_start": 0.8,
            "bin_end": 0.9,
            "count": 0
           },
           {
            "bin_start": 0.9,
            "bin_end": 1,
            "count": 13
           }
          ]
         }
        },
        {
         "name": "assymetry",
         "dtype": "int64",
         "stats": {
          "unique_count": 9,
          "nan_count": 0,
          "min": "2",
          "max": "10",
          "histogram": [
           {
            "bin_start": 2,
            "bin_end": 2.8,
            "count": 8
           },
           {
            "bin_start": 2.8,
            "bin_end": 3.6,
            "count": 10
           },
           {
            "bin_start": 3.6,
            "bin_end": 4.4,
            "count": 7
           },
           {
            "bin_start": 4.4,
            "bin_end": 5.2,
            "count": 7
           },
           {
            "bin_start": 5.2,
            "bin_end": 6,
            "count": 0
           },
           {
            "bin_start": 6,
            "bin_end": 6.800000000000001,
            "count": 9
           },
           {
            "bin_start": 6.800000000000001,
            "bin_end": 7.6000000000000005,
            "count": 8
           },
           {
            "bin_start": 7.6000000000000005,
            "bin_end": 8.4,
            "count": 9
           },
           {
            "bin_start": 8.4,
            "bin_end": 9.2,
            "count": 1
           },
           {
            "bin_start": 9.2,
            "bin_end": 10,
            "count": 1
           }
          ]
         }
        },
        {
         "name": "border",
         "dtype": "int64",
         "stats": {
          "unique_count": 8,
          "nan_count": 0,
          "min": "2",
          "max": "9",
          "histogram": [
           {
            "bin_start": 2,
            "bin_end": 2.7,
            "count": 6
           },
           {
            "bin_start": 2.7,
            "bin_end": 3.4,
            "count": 8
           },
           {
            "bin_start": 3.4,
            "bin_end": 4.1,
            "count": 10
           },
           {
            "bin_start": 4.1,
            "bin_end": 4.8,
            "count": 0
           },
           {
            "bin_start": 4.8,
            "bin_end": 5.5,
            "count": 10
           },
           {
            "bin_start": 5.5,
            "bin_end": 6.199999999999999,
            "count": 8
           },
           {
            "bin_start": 6.199999999999999,
            "bin_end": 6.8999999999999995,
            "count": 0
           },
           {
            "bin_start": 6.8999999999999995,
            "bin_end": 7.6,
            "count": 13
           },
           {
            "bin_start": 7.6,
            "bin_end": 8.3,
            "count": 4
           },
           {
            "bin_start": 8.3,
            "bin_end": 9,
            "count": 1
           }
          ]
         }
        },
        {
         "name": "color",
         "dtype": "int64",
         "stats": {
          "unique_count": 7,
          "nan_count": 0,
          "min": "2",
          "max": "8",
          "histogram": [
           {
            "bin_start": 2,
            "bin_end": 2.6,
            "count": 7
           },
           {
            "bin_start": 2.6,
            "bin_end": 3.2,
            "count": 8
           },
           {
            "bin_start": 3.2,
            "bin_end": 3.8,
            "count": 0
           },
           {
            "bin_start": 3.8,
            "bin_end": 4.4,
            "count": 6
           },
           {
            "bin_start": 4.4,
            "bin_end": 5,
            "count": 0
           },
           {
            "bin_start": 5,
            "bin_end": 5.6,
            "count": 9
           },
           {
            "bin_start": 5.6,
            "bin_end": 6.2,
            "count": 17
           },
           {
            "bin_start": 6.2,
            "bin_end": 6.8,
            "count": 0
           },
           {
            "bin_start": 6.8,
            "bin_end": 7.3999999999999995,
            "count": 12
           },
           {
            "bin_start": 7.3999999999999995,
            "bin_end": 8,
            "count": 1
           }
          ]
         }
        },
        {
         "name": "_deepnote_index_column",
         "dtype": "int64"
        }
       ],
       "rows": [
        {
         "img": "ISIC_0001769.jpg",
         "benign": 1,
         "melanoma": 0,
         "keratosis": 0,
         "assymetry": 2,
         "border": 2,
         "color": 2,
         "_deepnote_index_column": 0
        },
        {
         "img": "ISIC_0001852.jpg",
         "benign": 0,
         "melanoma": 1,
         "keratosis": 0,
         "assymetry": 3,
         "border": 4,
         "color": 7,
         "_deepnote_index_column": 1
        },
        {
         "img": "ISIC_0001871.jpg",
         "benign": 0,
         "melanoma": 1,
         "keratosis": 0,
         "assymetry": 3,
         "border": 5,
         "color": 6,
         "_deepnote_index_column": 2
        },
        {
         "img": "ISIC_0003462.jpg",
         "benign": 1,
         "melanoma": 0,
         "keratosis": 0,
         "assymetry": 2,
         "border": 2,
         "color": 3,
         "_deepnote_index_column": 3
        },
        {
         "img": "ISIC_0003539.jpg",
         "benign": 0,
         "melanoma": 1,
         "keratosis": 0,
         "assymetry": 6,
         "border": 7,
         "color": 7,
         "_deepnote_index_column": 4
        },
        {
         "img": "ISIC_0003582.jpg",
         "benign": 0,
         "melanoma": 1,
         "keratosis": 0,
         "assymetry": 7,
         "border": 6,
         "color": 5,
         "_deepnote_index_column": 5
        },
        {
         "img": "ISIC_0003657.jpg",
         "benign": 0,
         "melanoma": 1,
         "keratosis": 0,
         "assymetry": 4,
         "border": 4,
         "color": 5,
         "_deepnote_index_column": 6
        },
        {
         "img": "ISIC_0003805.jpg",
         "benign": 0,
         "melanoma": 1,
         "keratosis": 0,
         "assymetry": 4,
         "border": 5,
         "color": 5,
         "_deepnote_index_column": 7
        },
        {
         "img": "ISIC_0004337.jpg",
         "benign": 1,
         "melanoma": 0,
         "keratosis": 0,
         "assymetry": 2,
         "border": 3,
         "color": 3,
         "_deepnote_index_column": 8
        },
        {
         "img": "ISIC_0006651.jpg",
         "benign": 1,
         "melanoma": 0,
         "keratosis": 0,
         "assymetry": 2,
         "border": 2,
         "color": 3,
         "_deepnote_index_column": 9
        }
       ]
      },
      "text/plain": "                 img  benign  melanoma  keratosis  assymetry  border  color\n0   ISIC_0001769.jpg       1         0          0          2       2      2\n1   ISIC_0001852.jpg       0         1          0          3       4      7\n2   ISIC_0001871.jpg       0         1          0          3       5      6\n3   ISIC_0003462.jpg       1         0          0          2       2      3\n4   ISIC_0003539.jpg       0         1          0          6       7      7\n5   ISIC_0003582.jpg       0         1          0          7       6      5\n6   ISIC_0003657.jpg       0         1          0          4       4      5\n7   ISIC_0003805.jpg       0         1          0          4       5      5\n8   ISIC_0004337.jpg       1         0          0          2       3      3\n9   ISIC_0006651.jpg       1         0          0          2       2      3\n10  ISIC_0006671.jpg       1         0          0          2       2      3\n11  ISIC_0006815.jpg       1         0          0          2       2      2\n12  ISIC_0006914.jpg       0         1          0          4       7      3\n13  ISIC_0007141.jpg       0         1          0          5       4      6\n14  ISIC_0007156.jpg       0         1          0          3       4      6\n15  ISIC_0007235.jpg       0         1          0          2       4      7\n16  ISIC_0007241.jpg       0         1          0          7       5      6\n17  ISIC_0007332.jpg       0         1          0          3       6      5\n18  ISIC_0007344.jpg       0         1          0          6       5      6\n19  ISIC_0007528.jpg       1         0          0          3       3      2\n20  ISIC_0007796.jpg       0         1          0          5       4      4\n21  ISIC_0008025.jpg       0         1          0          5       5      4\n22  ISIC_0008524.jpg       1         0          0          5       2      2\n23  ISIC_0009995.jpg       0         1          0          7       8      7\n24  ISIC_0010459.jpg       0         1          0          6       7      7\n25  ISIC_0012099.jpg       0         1          0          4       7      6\n26  ISIC_0012109.jpg       0         1          0          6       5      6\n27  ISIC_0012126.jpg       0         1          0          6       5      6\n28  ISIC_0012127.jpg       0         1          0          8       7      6\n29  ISIC_0012143.jpg       0         0          1          5       4      4\n30  ISIC_0012151.jpg       0         1          0          8       8      7\n31  ISIC_0012159.jpg       0         0          1          6       5      4\n32  ISIC_0012160.jpg       0         1          0          8       8      2\n33  ISIC_0012191.jpg       0         1          0          7       6      6\n34  ISIC_0012201.jpg       0         1          0          7       6      6\n35  ISIC_0012204.jpg       0         0          1          3       4      4\n36  ISIC_0012206.jpg       0         1          0         10       9      7\n37  ISIC_0012210.jpg       1         0          0          6       7      2\n38  ISIC_0012221.jpg       1         0          0          2       3      3\n39  ISIC_0012222.jpg       0         1          0          7       6      5\n40  ISIC_0012254.jpg       0         0          1          8       7      7\n41  ISIC_0012256.jpg       0         0          1          3       3      2\n42  ISIC_0012288.jpg       0         1          0          8       6      6\n43  ISIC_0012306.jpg       1         0          0          3       3      3\n44  ISIC_0012313.jpg       0         1          0          6       4      6\n45  ISIC_0012316.jpg       0         1          0          5       7      5\n46  ISIC_0012335.jpg       0         0          1          3       4      4\n47  ISIC_0012380.jpg       0         0          1          5       5      6\n48  ISIC_0012383.jpg       0         0          1          4       5      5\n49  ISIC_0012400.jpg       0         1          0          8       8      8\n50  ISIC_0012417.jpg       0         0          1          8       7      7\n51  ISIC_0012434.jpg       0         1          0          4       7      3\n52  ISIC_0012492.jpg       0         0          1          8       3      7\n53  ISIC_0012513.jpg       0         0          1          3       3      6\n54  ISIC_0012538.jpg       0         1          0          9       7      7\n55  ISIC_0012547.jpg       0         0          1          4       3      5\n56  ISIC_0012660.jpg       0         1          0          8       6      6\n57  ISIC_0012684.jpg       0         1          0          7       7      7\n58  ISIC_0012720.jpg       0         0          1          6       6      5\n59  ISIC_0012746.jpg       0         1          0          7       7      6",
      "text/html": "<div>\n<style scoped>\n    .dataframe tbody tr th:only-of-type {\n        vertical-align: middle;\n    }\n\n    .dataframe tbody tr th {\n        vertical-align: top;\n    }\n\n    .dataframe thead th {\n        text-align: right;\n    }\n</style>\n<table border=\"1\" class=\"dataframe\">\n  <thead>\n    <tr style=\"text-align: right;\">\n      <th></th>\n      <th>img</th>\n      <th>benign</th>\n      <th>melanoma</th>\n      <th>keratosis</th>\n      <th>assymetry</th>\n      <th>border</th>\n      <th>color</th>\n    </tr>\n  </thead>\n  <tbody>\n    <tr>\n      <th>0</th>\n      <td>ISIC_0001769.jpg</td>\n      <td>1</td>\n      <td>0</td>\n      <td>0</td>\n      <td>2</td>\n      <td>2</td>\n      <td>2</td>\n    </tr>\n    <tr>\n      <th>1</th>\n      <td>ISIC_0001852.jpg</td>\n      <td>0</td>\n      <td>1</td>\n      <td>0</td>\n      <td>3</td>\n      <td>4</td>\n      <td>7</td>\n    </tr>\n    <tr>\n      <th>2</th>\n      <td>ISIC_0001871.jpg</td>\n      <td>0</td>\n      <td>1</td>\n      <td>0</td>\n      <td>3</td>\n      <td>5</td>\n      <td>6</td>\n    </tr>\n    <tr>\n      <th>3</th>\n      <td>ISIC_0003462.jpg</td>\n      <td>1</td>\n      <td>0</td>\n      <td>0</td>\n      <td>2</td>\n      <td>2</td>\n      <td>3</td>\n    </tr>\n    <tr>\n      <th>4</th>\n      <td>ISIC_0003539.jpg</td>\n      <td>0</td>\n      <td>1</td>\n      <td>0</td>\n      <td>6</td>\n      <td>7</td>\n      <td>7</td>\n    </tr>\n    <tr>\n      <th>5</th>\n      <td>ISIC_0003582.jpg</td>\n      <td>0</td>\n      <td>1</td>\n      <td>0</td>\n      <td>7</td>\n      <td>6</td>\n      <td>5</td>\n    </tr>\n    <tr>\n      <th>6</th>\n      <td>ISIC_0003657.jpg</td>\n      <td>0</td>\n      <td>1</td>\n      <td>0</td>\n      <td>4</td>\n      <td>4</td>\n      <td>5</td>\n    </tr>\n    <tr>\n      <th>7</th>\n      <td>ISIC_0003805.jpg</td>\n      <td>0</td>\n      <td>1</td>\n      <td>0</td>\n      <td>4</td>\n      <td>5</td>\n      <td>5</td>\n    </tr>\n    <tr>\n      <th>8</th>\n      <td>ISIC_0004337.jpg</td>\n      <td>1</td>\n      <td>0</td>\n      <td>0</td>\n      <td>2</td>\n      <td>3</td>\n      <td>3</td>\n    </tr>\n    <tr>\n      <th>9</th>\n      <td>ISIC_0006651.jpg</td>\n      <td>1</td>\n      <td>0</td>\n      <td>0</td>\n      <td>2</td>\n      <td>2</td>\n      <td>3</td>\n    </tr>\n    <tr>\n      <th>10</th>\n      <td>ISIC_0006671.jpg</td>\n      <td>1</td>\n      <td>0</td>\n      <td>0</td>\n      <td>2</td>\n      <td>2</td>\n      <td>3</td>\n    </tr>\n    <tr>\n      <th>11</th>\n      <td>ISIC_0006815.jpg</td>\n      <td>1</td>\n      <td>0</td>\n      <td>0</td>\n      <td>2</td>\n      <td>2</td>\n      <td>2</td>\n    </tr>\n    <tr>\n      <th>12</th>\n      <td>ISIC_0006914.jpg</td>\n      <td>0</td>\n      <td>1</td>\n      <td>0</td>\n      <td>4</td>\n      <td>7</td>\n      <td>3</td>\n    </tr>\n    <tr>\n      <th>13</th>\n      <td>ISIC_0007141.jpg</td>\n      <td>0</td>\n      <td>1</td>\n      <td>0</td>\n      <td>5</td>\n      <td>4</td>\n      <td>6</td>\n    </tr>\n    <tr>\n      <th>14</th>\n      <td>ISIC_0007156.jpg</td>\n      <td>0</td>\n      <td>1</td>\n      <td>0</td>\n      <td>3</td>\n      <td>4</td>\n      <td>6</td>\n    </tr>\n    <tr>\n      <th>15</th>\n      <td>ISIC_0007235.jpg</td>\n      <td>0</td>\n      <td>1</td>\n      <td>0</td>\n      <td>2</td>\n      <td>4</td>\n      <td>7</td>\n    </tr>\n    <tr>\n      <th>16</th>\n      <td>ISIC_0007241.jpg</td>\n      <td>0</td>\n      <td>1</td>\n      <td>0</td>\n      <td>7</td>\n      <td>5</td>\n      <td>6</td>\n    </tr>\n    <tr>\n      <th>17</th>\n      <td>ISIC_0007332.jpg</td>\n      <td>0</td>\n      <td>1</td>\n      <td>0</td>\n      <td>3</td>\n      <td>6</td>\n      <td>5</td>\n    </tr>\n    <tr>\n      <th>18</th>\n      <td>ISIC_0007344.jpg</td>\n      <td>0</td>\n      <td>1</td>\n      <td>0</td>\n      <td>6</td>\n      <td>5</td>\n      <td>6</td>\n    </tr>\n    <tr>\n      <th>19</th>\n      <td>ISIC_0007528.jpg</td>\n      <td>1</td>\n      <td>0</td>\n      <td>0</td>\n      <td>3</td>\n      <td>3</td>\n      <td>2</td>\n    </tr>\n    <tr>\n      <th>20</th>\n      <td>ISIC_0007796.jpg</td>\n      <td>0</td>\n      <td>1</td>\n      <td>0</td>\n      <td>5</td>\n      <td>4</td>\n      <td>4</td>\n    </tr>\n    <tr>\n      <th>21</th>\n      <td>ISIC_0008025.jpg</td>\n      <td>0</td>\n      <td>1</td>\n      <td>0</td>\n      <td>5</td>\n      <td>5</td>\n      <td>4</td>\n    </tr>\n    <tr>\n      <th>22</th>\n      <td>ISIC_0008524.jpg</td>\n      <td>1</td>\n      <td>0</td>\n      <td>0</td>\n      <td>5</td>\n      <td>2</td>\n      <td>2</td>\n    </tr>\n    <tr>\n      <th>23</th>\n      <td>ISIC_0009995.jpg</td>\n      <td>0</td>\n      <td>1</td>\n      <td>0</td>\n      <td>7</td>\n      <td>8</td>\n      <td>7</td>\n    </tr>\n    <tr>\n      <th>24</th>\n      <td>ISIC_0010459.jpg</td>\n      <td>0</td>\n      <td>1</td>\n      <td>0</td>\n      <td>6</td>\n      <td>7</td>\n      <td>7</td>\n    </tr>\n    <tr>\n      <th>25</th>\n      <td>ISIC_0012099.jpg</td>\n      <td>0</td>\n      <td>1</td>\n      <td>0</td>\n      <td>4</td>\n      <td>7</td>\n      <td>6</td>\n    </tr>\n    <tr>\n      <th>26</th>\n      <td>ISIC_0012109.jpg</td>\n      <td>0</td>\n      <td>1</td>\n      <td>0</td>\n      <td>6</td>\n      <td>5</td>\n      <td>6</td>\n    </tr>\n    <tr>\n      <th>27</th>\n      <td>ISIC_0012126.jpg</td>\n      <td>0</td>\n      <td>1</td>\n      <td>0</td>\n      <td>6</td>\n      <td>5</td>\n      <td>6</td>\n    </tr>\n    <tr>\n      <th>28</th>\n      <td>ISIC_0012127.jpg</td>\n      <td>0</td>\n      <td>1</td>\n      <td>0</td>\n      <td>8</td>\n      <td>7</td>\n      <td>6</td>\n    </tr>\n    <tr>\n      <th>29</th>\n      <td>ISIC_0012143.jpg</td>\n      <td>0</td>\n      <td>0</td>\n      <td>1</td>\n      <td>5</td>\n      <td>4</td>\n      <td>4</td>\n    </tr>\n    <tr>\n      <th>30</th>\n      <td>ISIC_0012151.jpg</td>\n      <td>0</td>\n      <td>1</td>\n      <td>0</td>\n      <td>8</td>\n      <td>8</td>\n      <td>7</td>\n    </tr>\n    <tr>\n      <th>31</th>\n      <td>ISIC_0012159.jpg</td>\n      <td>0</td>\n      <td>0</td>\n      <td>1</td>\n      <td>6</td>\n      <td>5</td>\n      <td>4</td>\n    </tr>\n    <tr>\n      <th>32</th>\n      <td>ISIC_0012160.jpg</td>\n      <td>0</td>\n      <td>1</td>\n      <td>0</td>\n      <td>8</td>\n      <td>8</td>\n      <td>2</td>\n    </tr>\n    <tr>\n      <th>33</th>\n      <td>ISIC_0012191.jpg</td>\n      <td>0</td>\n      <td>1</td>\n      <td>0</td>\n      <td>7</td>\n      <td>6</td>\n      <td>6</td>\n    </tr>\n    <tr>\n      <th>34</th>\n      <td>ISIC_0012201.jpg</td>\n      <td>0</td>\n      <td>1</td>\n      <td>0</td>\n      <td>7</td>\n      <td>6</td>\n      <td>6</td>\n    </tr>\n    <tr>\n      <th>35</th>\n      <td>ISIC_0012204.jpg</td>\n      <td>0</td>\n      <td>0</td>\n      <td>1</td>\n      <td>3</td>\n      <td>4</td>\n      <td>4</td>\n    </tr>\n    <tr>\n      <th>36</th>\n      <td>ISIC_0012206.jpg</td>\n      <td>0</td>\n      <td>1</td>\n      <td>0</td>\n      <td>10</td>\n      <td>9</td>\n      <td>7</td>\n    </tr>\n    <tr>\n      <th>37</th>\n      <td>ISIC_0012210.jpg</td>\n      <td>1</td>\n      <td>0</td>\n      <td>0</td>\n      <td>6</td>\n      <td>7</td>\n      <td>2</td>\n    </tr>\n    <tr>\n      <th>38</th>\n      <td>ISIC_0012221.jpg</td>\n      <td>1</td>\n      <td>0</td>\n      <td>0</td>\n      <td>2</td>\n      <td>3</td>\n      <td>3</td>\n    </tr>\n    <tr>\n      <th>39</th>\n      <td>ISIC_0012222.jpg</td>\n      <td>0</td>\n      <td>1</td>\n      <td>0</td>\n      <td>7</td>\n      <td>6</td>\n      <td>5</td>\n    </tr>\n    <tr>\n      <th>40</th>\n      <td>ISIC_0012254.jpg</td>\n      <td>0</td>\n      <td>0</td>\n      <td>1</td>\n      <td>8</td>\n      <td>7</td>\n      <td>7</td>\n    </tr>\n    <tr>\n      <th>41</th>\n      <td>ISIC_0012256.jpg</td>\n      <td>0</td>\n      <td>0</td>\n      <td>1</td>\n      <td>3</td>\n      <td>3</td>\n      <td>2</td>\n    </tr>\n    <tr>\n      <th>42</th>\n      <td>ISIC_0012288.jpg</td>\n      <td>0</td>\n      <td>1</td>\n      <td>0</td>\n      <td>8</td>\n      <td>6</td>\n      <td>6</td>\n    </tr>\n    <tr>\n      <th>43</th>\n      <td>ISIC_0012306.jpg</td>\n      <td>1</td>\n      <td>0</td>\n      <td>0</td>\n      <td>3</td>\n      <td>3</td>\n      <td>3</td>\n    </tr>\n    <tr>\n      <th>44</th>\n      <td>ISIC_0012313.jpg</td>\n      <td>0</td>\n      <td>1</td>\n      <td>0</td>\n      <td>6</td>\n      <td>4</td>\n      <td>6</td>\n    </tr>\n    <tr>\n      <th>45</th>\n      <td>ISIC_0012316.jpg</td>\n      <td>0</td>\n      <td>1</td>\n      <td>0</td>\n      <td>5</td>\n      <td>7</td>\n      <td>5</td>\n    </tr>\n    <tr>\n      <th>46</th>\n      <td>ISIC_0012335.jpg</td>\n      <td>0</td>\n      <td>0</td>\n      <td>1</td>\n      <td>3</td>\n      <td>4</td>\n      <td>4</td>\n    </tr>\n    <tr>\n      <th>47</th>\n      <td>ISIC_0012380.jpg</td>\n      <td>0</td>\n      <td>0</td>\n      <td>1</td>\n      <td>5</td>\n      <td>5</td>\n      <td>6</td>\n    </tr>\n    <tr>\n      <th>48</th>\n      <td>ISIC_0012383.jpg</td>\n      <td>0</td>\n      <td>0</td>\n      <td>1</td>\n      <td>4</td>\n      <td>5</td>\n      <td>5</td>\n    </tr>\n    <tr>\n      <th>49</th>\n      <td>ISIC_0012400.jpg</td>\n      <td>0</td>\n      <td>1</td>\n      <td>0</td>\n      <td>8</td>\n      <td>8</td>\n      <td>8</td>\n    </tr>\n    <tr>\n      <th>50</th>\n      <td>ISIC_0012417.jpg</td>\n      <td>0</td>\n      <td>0</td>\n      <td>1</td>\n      <td>8</td>\n      <td>7</td>\n      <td>7</td>\n    </tr>\n    <tr>\n      <th>51</th>\n      <td>ISIC_0012434.jpg</td>\n      <td>0</td>\n      <td>1</td>\n      <td>0</td>\n      <td>4</td>\n      <td>7</td>\n      <td>3</td>\n    </tr>\n    <tr>\n      <th>52</th>\n      <td>ISIC_0012492.jpg</td>\n      <td>0</td>\n      <td>0</td>\n      <td>1</td>\n      <td>8</td>\n      <td>3</td>\n      <td>7</td>\n    </tr>\n    <tr>\n      <th>53</th>\n      <td>ISIC_0012513.jpg</td>\n      <td>0</td>\n      <td>0</td>\n      <td>1</td>\n      <td>3</td>\n      <td>3</td>\n      <td>6</td>\n    </tr>\n    <tr>\n      <th>54</th>\n      <td>ISIC_0012538.jpg</td>\n      <td>0</td>\n      <td>1</td>\n      <td>0</td>\n      <td>9</td>\n      <td>7</td>\n      <td>7</td>\n    </tr>\n    <tr>\n      <th>55</th>\n      <td>ISIC_0012547.jpg</td>\n      <td>0</td>\n      <td>0</td>\n      <td>1</td>\n      <td>4</td>\n      <td>3</td>\n      <td>5</td>\n    </tr>\n    <tr>\n      <th>56</th>\n      <td>ISIC_0012660.jpg</td>\n      <td>0</td>\n      <td>1</td>\n      <td>0</td>\n      <td>8</td>\n      <td>6</td>\n      <td>6</td>\n    </tr>\n    <tr>\n      <th>57</th>\n      <td>ISIC_0012684.jpg</td>\n      <td>0</td>\n      <td>1</td>\n      <td>0</td>\n      <td>7</td>\n      <td>7</td>\n      <td>7</td>\n    </tr>\n    <tr>\n      <th>58</th>\n      <td>ISIC_0012720.jpg</td>\n      <td>0</td>\n      <td>0</td>\n      <td>1</td>\n      <td>6</td>\n      <td>6</td>\n      <td>5</td>\n    </tr>\n    <tr>\n      <th>59</th>\n      <td>ISIC_0012746.jpg</td>\n      <td>0</td>\n      <td>1</td>\n      <td>0</td>\n      <td>7</td>\n      <td>7</td>\n      <td>6</td>\n    </tr>\n  </tbody>\n</table>\n</div>"
     },
     "metadata": {}
    }
   ],
   "execution_count": null
  },
  {
   "cell_type": "code",
   "source": "img_names = list(frida[\"img\"])\nfeatures = list(frida.columns[1:])\n\ndfs = [frida, magnus, marie, viggo, gustav]\n\ncolumns=['melanoma', 'assymetry', 'border', 'color']\narrs = [np.array(df[columns]) for df in dfs]\nfull_arr = sum(arrs) / 5\ncolumns[1] = 'asymmetry'\ndf_dict = {\"image_id\": [img[:-4] for img in img_names]}\nfor col, colname in zip(full_arr.T, columns):\n    df_dict[colname] = col\ndf_dict['melanoma'] = np.round(df_dict['melanoma'])\nfull_df = pd.DataFrame(df_dict)\nimg_names = list(full_df['image_id'])\n\nfull_df.head()",
   "metadata": {
    "cell_id": "8e529621796f4155a5475efc77b79fcd",
    "tags": [],
    "deepnote_to_be_reexecuted": false,
    "source_hash": "98b8f775",
    "execution_start": 1649157207327,
    "execution_millis": 22,
    "deepnote_cell_type": "code",
    "deepnote_cell_height": 683
   },
   "outputs": [
    {
     "output_type": "execute_result",
     "execution_count": 99,
     "data": {
      "application/vnd.deepnote.dataframe.v3+json": {
       "column_count": 5,
       "row_count": 5,
       "columns": [
        {
         "name": "image_id",
         "dtype": "object",
         "stats": {
          "unique_count": 5,
          "nan_count": 0,
          "categories": [
           {
            "name": "ISIC_0001769",
            "count": 1
           },
           {
            "name": "ISIC_0001852",
            "count": 1
           },
           {
            "name": "3 others",
            "count": 3
           }
          ]
         }
        },
        {
         "name": "melanoma",
         "dtype": "float64",
         "stats": {
          "unique_count": 2,
          "nan_count": 0,
          "min": "0.0",
          "max": "1.0",
          "histogram": [
           {
            "bin_start": 0,
            "bin_end": 0.1,
            "count": 3
           },
           {
            "bin_start": 0.1,
            "bin_end": 0.2,
            "count": 0
           },
           {
            "bin_start": 0.2,
            "bin_end": 0.30000000000000004,
            "count": 0
           },
           {
            "bin_start": 0.30000000000000004,
            "bin_end": 0.4,
            "count": 0
           },
           {
            "bin_start": 0.4,
            "bin_end": 0.5,
            "count": 0
           },
           {
            "bin_start": 0.5,
            "bin_end": 0.6000000000000001,
            "count": 0
           },
           {
            "bin_start": 0.6000000000000001,
            "bin_end": 0.7000000000000001,
            "count": 0
           },
           {
            "bin_start": 0.7000000000000001,
            "bin_end": 0.8,
            "count": 0
           },
           {
            "bin_start": 0.8,
            "bin_end": 0.9,
            "count": 0
           },
           {
            "bin_start": 0.9,
            "bin_end": 1,
            "count": 2
           }
          ]
         }
        },
        {
         "name": "asymmetry",
         "dtype": "float64",
         "stats": {
          "unique_count": 4,
          "nan_count": 0,
          "min": "1.6",
          "max": "5.2",
          "histogram": [
           {
            "bin_start": 1.6,
            "bin_end": 1.96,
            "count": 2
           },
           {
            "bin_start": 1.96,
            "bin_end": 2.3200000000000003,
            "count": 2
           },
           {
            "bin_start": 2.3200000000000003,
            "bin_end": 2.68,
            "count": 0
           },
           {
            "bin_start": 2.68,
            "bin_end": 3.04,
            "count": 0
           },
           {
            "bin_start": 3.04,
            "bin_end": 3.4,
            "count": 0
           },
           {
            "bin_start": 3.4,
            "bin_end": 3.7600000000000002,
            "count": 0
           },
           {
            "bin_start": 3.7600000000000002,
            "bin_end": 4.12,
            "count": 0
           },
           {
            "bin_start": 4.12,
            "bin_end": 4.48,
            "count": 0
           },
           {
            "bin_start": 4.48,
            "bin_end": 4.84,
            "count": 0
           },
           {
            "bin_start": 4.84,
            "bin_end": 5.2,
            "count": 1
           }
          ]
         }
        },
        {
         "name": "border",
         "dtype": "float64",
         "stats": {
          "unique_count": 5,
          "nan_count": 0,
          "min": "2.0",
          "max": "6.0",
          "histogram": [
           {
            "bin_start": 2,
            "bin_end": 2.4,
            "count": 1
           },
           {
            "bin_start": 2.4,
            "bin_end": 2.8,
            "count": 2
           },
           {
            "bin_start": 2.8,
            "bin_end": 3.2,
            "count": 1
           },
           {
            "bin_start": 3.2,
            "bin_end": 3.6,
            "count": 0
           },
           {
            "bin_start": 3.6,
            "bin_end": 4,
            "count": 0
           },
           {
            "bin_start": 4,
            "bin_end": 4.4,
            "count": 0
           },
           {
            "bin_start": 4.4,
            "bin_end": 4.800000000000001,
            "count": 0
           },
           {
            "bin_start": 4.800000000000001,
            "bin_end": 5.2,
            "count": 0
           },
           {
            "bin_start": 5.2,
            "bin_end": 5.6,
            "count": 0
           },
           {
            "bin_start": 5.6,
            "bin_end": 6,
            "count": 1
           }
          ]
         }
        },
        {
         "name": "color",
         "dtype": "float64",
         "stats": {
          "unique_count": 5,
          "nan_count": 0,
          "min": "1.8",
          "max": "7.0",
          "histogram": [
           {
            "bin_start": 1.8,
            "bin_end": 2.3200000000000003,
            "count": 1
           },
           {
            "bin_start": 2.3200000000000003,
            "bin_end": 2.84,
            "count": 0
           },
           {
            "bin_start": 2.84,
            "bin_end": 3.3600000000000003,
            "count": 0
           },
           {
            "bin_start": 3.3600000000000003,
            "bin_end": 3.88,
            "count": 1
           },
           {
            "bin_start": 3.88,
            "bin_end": 4.4,
            "count": 0
           },
           {
            "bin_start": 4.4,
            "bin_end": 4.92,
            "count": 2
           },
           {
            "bin_start": 4.92,
            "bin_end": 5.44,
            "count": 0
           },
           {
            "bin_start": 5.44,
            "bin_end": 5.96,
            "count": 0
           },
           {
            "bin_start": 5.96,
            "bin_end": 6.4799999999999995,
            "count": 0
           },
           {
            "bin_start": 6.4799999999999995,
            "bin_end": 7,
            "count": 1
           }
          ]
         }
        },
        {
         "name": "_deepnote_index_column",
         "dtype": "int64"
        }
       ],
       "rows": [
        {
         "image_id": "ISIC_0001769",
         "melanoma": 0,
         "asymmetry": 1.6,
         "border": 2,
         "color": 1.8,
         "_deepnote_index_column": 0
        },
        {
         "image_id": "ISIC_0001852",
         "melanoma": 1,
         "asymmetry": 2,
         "border": 2.4,
         "color": 4.4,
         "_deepnote_index_column": 1
        },
        {
         "image_id": "ISIC_0001871",
         "melanoma": 0,
         "asymmetry": 2,
         "border": 3,
         "color": 4.6,
         "_deepnote_index_column": 2
        },
        {
         "image_id": "ISIC_0003462",
         "melanoma": 0,
         "asymmetry": 1.8,
         "border": 2.6,
         "color": 3.6,
         "_deepnote_index_column": 3
        },
        {
         "image_id": "ISIC_0003539",
         "melanoma": 1,
         "asymmetry": 5.2,
         "border": 6,
         "color": 7,
         "_deepnote_index_column": 4
        }
       ]
      },
      "text/plain": "       image_id  melanoma  asymmetry  border  color\n0  ISIC_0001769       0.0        1.6     2.0    1.8\n1  ISIC_0001852       1.0        2.0     2.4    4.4\n2  ISIC_0001871       0.0        2.0     3.0    4.6\n3  ISIC_0003462       0.0        1.8     2.6    3.6\n4  ISIC_0003539       1.0        5.2     6.0    7.0",
      "text/html": "<div>\n<style scoped>\n    .dataframe tbody tr th:only-of-type {\n        vertical-align: middle;\n    }\n\n    .dataframe tbody tr th {\n        vertical-align: top;\n    }\n\n    .dataframe thead th {\n        text-align: right;\n    }\n</style>\n<table border=\"1\" class=\"dataframe\">\n  <thead>\n    <tr style=\"text-align: right;\">\n      <th></th>\n      <th>image_id</th>\n      <th>melanoma</th>\n      <th>asymmetry</th>\n      <th>border</th>\n      <th>color</th>\n    </tr>\n  </thead>\n  <tbody>\n    <tr>\n      <th>0</th>\n      <td>ISIC_0001769</td>\n      <td>0.0</td>\n      <td>1.6</td>\n      <td>2.0</td>\n      <td>1.8</td>\n    </tr>\n    <tr>\n      <th>1</th>\n      <td>ISIC_0001852</td>\n      <td>1.0</td>\n      <td>2.0</td>\n      <td>2.4</td>\n      <td>4.4</td>\n    </tr>\n    <tr>\n      <th>2</th>\n      <td>ISIC_0001871</td>\n      <td>0.0</td>\n      <td>2.0</td>\n      <td>3.0</td>\n      <td>4.6</td>\n    </tr>\n    <tr>\n      <th>3</th>\n      <td>ISIC_0003462</td>\n      <td>0.0</td>\n      <td>1.8</td>\n      <td>2.6</td>\n      <td>3.6</td>\n    </tr>\n    <tr>\n      <th>4</th>\n      <td>ISIC_0003539</td>\n      <td>1.0</td>\n      <td>5.2</td>\n      <td>6.0</td>\n      <td>7.0</td>\n    </tr>\n  </tbody>\n</table>\n</div>"
     },
     "metadata": {}
    }
   ],
   "execution_count": null
  },
  {
   "cell_type": "code",
   "source": "from sklearn.preprocessing import StandardScaler, MinMaxScaler\nfeature_df = pd.read_csv(\"../../features/features_example.csv\")\nfeature_df = feature_df.loc[[img in img_names for img in feature_df['image_id']]]\nA = ['asymmetry', 'asymmetry_gauss', 'border_score']\nB = ['area', 'perimeter', 'compactness']\nC = [\"color_dist_10_5\",\n    \"color_sd_10_5\",\n    \"color_dist_10_10\",\n    \"color_sd_10_10\",\n    \"color_dist_5_5\",\n    \"color_sd_5_5\",\n    \"color_dist_5_10\",\n    \"color_sd_5_10\",\n    \"color_score\"]\n\nfeature_names = [\n        \"asymmetry\",\n        \"asymmetry_gauss\",\n        \"area\",\n        \"perimeter\",\n        \"compactness\",\n        \"color_dist_10_5\",\n        \"color_sd_10_5\",\n        \"color_dist_10_10\",\n        \"color_sd_10_10\",\n        \"color_dist_5_5\",\n        \"color_sd_5_5\",\n        \"color_dist_5_10\",\n        \"color_sd_5_10\",\n        \"color_score\",\n        \"border_score\"\n    ]\n\nA = [feature_names.index(s) for s in A]\nB = [feature_names.index(s) for s in B]\nC = [feature_names.index(s) for s in C]\n\nx = np.array(feature_df[feature_names])\nx = MinMaxScaler().fit_transform(x)\n\n\nA = np.round(np.mean(x[:, A], axis=1) * 10, 1)\nB = np.round(np.mean(x[:, B], axis=1) * 10, 1)\nC = np.round(np.mean(x[:, C], axis=1) * 10, 1)",
   "metadata": {
    "cell_id": "cc7498c73ad8449ea497376067d3ffd4",
    "tags": [],
    "deepnote_to_be_reexecuted": false,
    "source_hash": "f0ed6429",
    "execution_start": 1649157659851,
    "execution_millis": 13,
    "deepnote_cell_type": "code",
    "deepnote_cell_height": 855
   },
   "outputs": [],
   "execution_count": null
  },
  {
   "cell_type": "code",
   "source": "full_df[\"asymmetry_script\"] = A\nfull_df[\"border_script\"] = B\nfull_df[\"color_script\"] = C\nfull_df[\"melanoma_script\"] = feature_df['melanoma']\nfull_df = full_df[['image_id', 'melanoma', 'melanoma_script', 'asymmetry', 'asymmetry_script', 'border', 'border_script', 'color', 'color_script']]\nfull_df.to_csv(\"../full_classification.csv\")",
   "metadata": {
    "cell_id": "ebf6067c508444a093a55b69a5a28fb8",
    "tags": [],
    "deepnote_to_be_reexecuted": false,
    "source_hash": "99967758",
    "execution_start": 1649157660410,
    "execution_millis": 4,
    "deepnote_cell_type": "code",
    "deepnote_cell_height": 171
   },
   "outputs": [],
   "execution_count": null
  },
  {
   "cell_type": "code",
   "source": "fig, axes = plt.subplots(2, 2, figsize=(15, 10))\nfor feat, ax in zip([\"melanoma\", \"asymmetry\", \"border\", \"color\"], axes.flatten()):\n    sns.scatterplot(x=feat, y=feat + '_script', hue='melanoma', data=full_df, ax=ax)\n    a = pearsonr(full_df[feat], full_df[feat + '_script'])[0]\n    minimum = np.min([np.min(full_df[feat]), np.min(full_df[feat + \"_script\"])])\n    maximum = np.max([np.max(full_df[feat]), np.max(full_df[feat + \"_script\"])])\n    x = np.linspace(minimum, maximum, 100)\n    sns.lineplot(x=x, y=x*a, ax=ax)\n    ax.text(x=0.5, y=0.5, s='y=' + str(np.round(a, 2)) + 'x')",
   "metadata": {
    "cell_id": "84451d900630471fa634fe3a7c976688",
    "tags": [],
    "deepnote_to_be_reexecuted": false,
    "source_hash": "ebaa7603",
    "execution_start": 1649160844872,
    "execution_millis": 2306,
    "deepnote_cell_type": "code",
    "deepnote_cell_height": 864,
    "deepnote_output_heights": [
     559.859375,
     545.484375,
     545.484375
    ]
   },
   "outputs": [
    {
     "data": {
      "text/plain": "<Figure size 1080x720 with 4 Axes>",
      "image/png": "[encoded data removed]"
     },
     "metadata": {
      "needs_background": "light",
      "image/png": {
       "width": 889,
       "height": 589
      }
     },
     "output_type": "display_data"
    }
   ],
   "execution_count": null
  },
  {
   "cell_type": "code",
   "source": "",
   "metadata": {
    "cell_id": "34bc53348c09459f9fca2cf793b6a908",
    "tags": [],
    "deepnote_cell_type": "code",
    "deepnote_cell_height": 66
   },
   "outputs": [],
   "execution_count": null
  },
  {
   "cell_type": "markdown",
   "source": "<a style='text-decoration:none;line-height:16px;display:flex;color:#5B5B62;padding:10px;justify-content:end;' href='https://deepnote.com?utm_source=created-in-deepnote-cell&projectId=6840a14b-d41a-45b9-abd0-892354334cb2' target=\"_blank\">\n<img alt='Created in deepnote.com' style='display:inline;max-height:16px;margin:0px;margin-right:7.5px;' src='data:image/svg+xml;base64,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' > </img>\nCreated in <span style='font-weight:600;margin-left:4px;'>Deepnote</span></a>",
   "metadata": {
    "tags": [],
    "created_in_deepnote_cell": true,
    "deepnote_cell_type": "markdown"
   }
  }
 ],
 "nbformat": 4,
 "nbformat_minor": 2,
 "metadata": {
  "orig_nbformat": 2,
  "deepnote": {
   "is_reactive": false
  },
  "deepnote_notebook_id": "490def2f-5330-4d14-bae6-9dd075bf11b2",
  "deepnote_execution_queue": []
 }
}