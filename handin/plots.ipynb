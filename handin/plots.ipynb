{
 "cells": [
  {
   "cell_type": "code",
   "metadata": {
    "tags": [],
    "cell_id": "5b4d163d-2182-4153-beff-97023b426779",
    "deepnote_to_be_reexecuted": false,
    "source_hash": "d46dbb18",
    "execution_start": 1649357621279,
    "execution_millis": 3998,
    "output_cleared": true,
    "deepnote_cell_type": "code",
    "deepnote_cell_height": 333
   },
   "source": "import pandas as pd\nimport seaborn as sns\nimport numpy as np\nimport matplotlib.pyplot as plt\nfrom PIL import Image\nfrom tabulate import tabulate\nfrom scipy.stats import pearsonr\nfrom sklearn.feature_selection import mutual_info_classif, SelectKBest, SequentialFeatureSelector\nfrom sklearn.model_selection import StratifiedShuffleSplit\nfrom sklearn.metrics import accuracy_score, roc_auc_score\nfrom sklearn.neighbors import KNeighborsClassifier\nfrom sklearn.tree import DecisionTreeClassifier\nfrom sklearn.preprocessing import MinMaxScaler, normalize\nfrom sklearn.metrics import confusion_matrix, ConfusionMatrixDisplay\n!mkdir figures",
   "execution_count": null,
   "outputs": []
  },
  {
   "cell_type": "code",
   "source": "df = pd.read_csv(\"features/features_training.csv\")\nX = df.drop([\"image_id\", \"melanoma\"], axis=1)\ny = df[\"melanoma\"]\nfeature_names = list(df)[2:]\nselector = SelectKBest(mutual_info_classif, k=2)\nselector.fit(X, y)\n\n# Show the feature scores\nscores = selector.scores_\n\n\nfig, ax = plt.subplots(figsize=(12,3))\nax.bar(feature_names, scores, width=.2)\nax.set_xlabel('feature index')\nax.set_ylabel('mutual information')\nplt.xticks(rotation=60);\nplt.tight_layout()\nplt.savefig(\"figures/mutual_info.png\", bbox_inches=\"tight\", dpi=400)",
   "metadata": {
    "cell_id": "9bdec7fa9af6420c9cef43094858ae74",
    "tags": [],
    "deepnote_to_be_reexecuted": false,
    "source_hash": "a6cf9fe4",
    "execution_start": 1649357625282,
    "execution_millis": 2917,
    "output_cleared": true,
    "deepnote_cell_type": "code",
    "deepnote_cell_height": 387,
    "deepnote_output_heights": [
     214
    ]
   },
   "outputs": [],
   "execution_count": null
  },
  {
   "cell_type": "code",
   "source": "df = pd.read_csv(\"features/features_training.csv\")\nfeatures = [\"asymmetry\", \"area\", \"perimeter\", \"color_dist_10_5\", \"color_score\"]\n\nx = df[features].to_numpy()\ny = np.array(df[\"melanoma\"])\n\nx = MinMaxScaler().fit_transform(x)\n\nn_splits = 5\nkf = StratifiedShuffleSplit(n_splits=n_splits, test_size=0.4, random_state=1)\n\nk_auc_scores = np.empty((16))\n\nfor j, k in enumerate(range(1, 32, 2)):\n    acc_val_knn = np.empty((n_splits, 1))\n    auc_val_knn = np.empty((n_splits, 1))\n    acc_val_tree = np.empty((n_splits, 1))\n    auc_val_tree = np.empty((n_splits, 1))\n\n    threshold = 0.2\n\n    for i, (train_index, val_index) in enumerate(kf.split(x, y)):\n        x_train, x_val = x[train_index], x[val_index]\n        y_train, y_val = y[train_index], y[val_index]\n\n        clf = KNeighborsClassifier(n_neighbors=k)\n        clf = clf.fit(x_train, y_train)\n        y_pred_val = clf.predict(x_val)\n        y_prob_val = clf.predict_proba(x_val)[:,1]\n        \n        acc_val_knn[i] = accuracy_score(y_val, y_pred_val)\n        auc_val_knn[i] = roc_auc_score(y_val, y_prob_val)\n\n        clf = DecisionTreeClassifier(random_state=1)\n        clf.fit(x_train, y_train)\n        y_pred_val = clf.predict(x_val)\n        y_prob_val = clf.predict_proba(x_val)[:,1]\n\n        acc_val_tree[i] = accuracy_score(y_val, y_pred_val)\n        auc_val_tree[i] = roc_auc_score(y_val, y_prob_val)\n        \n\n    k_auc_scores[j] = np.mean(auc_val_knn)\nax = sns.lineplot(x=range(1, 32, 2), y=k_auc_scores)\nax.set_ylabel(\"ROC Auc score\")\nax.set_xlabel(\"k value in KNN classifier\")\n# ax.set_title(\"ROC Auc score at different values of k\");\nplt.savefig(\"figures/auc_different_k.png\", bbox_inches=\"tight\", dpi=400)",
   "metadata": {
    "cell_id": "9e46e634ed5e45d1a9e073183020346e",
    "tags": [],
    "deepnote_to_be_reexecuted": false,
    "source_hash": "b3c48f8b",
    "execution_start": 1649357627679,
    "execution_millis": 5820,
    "output_cleared": true,
    "deepnote_cell_type": "code",
    "deepnote_cell_height": 927,
    "deepnote_output_heights": [
     264
    ]
   },
   "outputs": [],
   "execution_count": null
  },
  {
   "cell_type": "code",
   "source": "df = pd.read_csv(\"features/features_training.csv\")\nfeatures = [\"asymmetry\", \"area\", \"perimeter\", \"color_dist_10_5\", \"color_score\"]\n\nx = df[features].to_numpy()\ny = np.array(df[\"melanoma\"])\n\nx = MinMaxScaler().fit_transform(x)\n\nn_splits = 5\nkf = StratifiedShuffleSplit(n_splits=n_splits, test_size=0.4, random_state=1)\n\nacc_val_knn = np.empty((n_splits, 1))\nauc_val_knn = np.empty((n_splits, 1))\nacc_val_tree = np.empty((n_splits, 1))\nauc_val_tree = np.empty((n_splits, 1))\n\nk = 9\nthreshold = 0.2\n\n\nconf_mats = []\n\nfor i, (train_index, val_index) in enumerate(kf.split(x, y)):\n    x_train, x_val = x[train_index], x[val_index]\n    y_train, y_val = y[train_index], y[val_index]\n\n    clf = KNeighborsClassifier(n_neighbors=k)\n    clf = clf.fit(x_train, y_train)\n    y_pred_val = clf.predict(x_val)\n    y_prob_val = clf.predict_proba(x_val)[:,1]\n    \n    acc_val_knn[i] = accuracy_score(y_val, y_pred_val)\n    auc_val_knn[i] = roc_auc_score(y_val, y_prob_val)\n\n    conf_mats.append(confusion_matrix(y_val, y_prob_val > threshold))\n\n    clf = DecisionTreeClassifier(random_state=1)\n    clf.fit(x_train, y_train)\n    y_pred_val = clf.predict(x_val)\n    y_prob_val = clf.predict_proba(x_val)[:,1]\n\n    acc_val_tree[i] = accuracy_score(y_val, y_pred_val)\n    auc_val_tree[i] = roc_auc_score(y_val, y_prob_val)\n    \n\n    \n\nprint(\"KNN Accuracy scores\")\nprint(f\"acc_score: {np.mean(acc_val_knn):.3f} ±{np.std(acc_val_knn):.2f}\")\nprint(f\"auc_score: {np.mean(auc_val_knn):.3f} ±{np.std(auc_val_knn):.2f}\")\nprint(\"_\"*30)\nprint(\"Decision Tree Accuracy scores\")\nprint(f\"acc_score: {np.mean(acc_val_tree):.3f} ±{np.std(acc_val_tree):.2f}\")\nprint(f\"auc_score: {np.mean(auc_val_tree):.3f} ±{np.std(auc_val_tree):.2f}\")\n\nprint(f\"\\nConfusion matrix for threshold {threshold}\")\nconf_mats = np.stack(conf_mats, axis=2)\navg_conf_mat = np.mean(conf_mats, axis=2)\navg_conf_mat = normalize(avg_conf_mat, norm=\"l1\")\nprint(avg_conf_mat)\ndisplay = ConfusionMatrixDisplay(avg_conf_mat, display_labels=[\"Not melanoma\", \"Melanoma\"])\ndisplay.plot(cmap=plt.cm.Blues);",
   "metadata": {
    "cell_id": "abd7d92e779548eca72e2940ab9fdd7f",
    "tags": [],
    "deepnote_to_be_reexecuted": false,
    "source_hash": "b165eef6",
    "execution_start": 1649357633378,
    "execution_millis": 652,
    "output_cleared": true,
    "deepnote_cell_type": "code",
    "deepnote_cell_height": 1179,
    "deepnote_output_heights": [
     null,
     264
    ]
   },
   "outputs": [],
   "execution_count": null
  },
  {
   "cell_type": "code",
   "source": "df = pd.read_csv(\"features/features_training.csv\")\nfeatures = [\"asymmetry\", \"area\", \"perimeter\", \"color_dist_10_5\", \"color_score\"]\n\nx = df[features].to_numpy()\ny = np.array(df[\"melanoma\"])\n\n# JSON Data\ndef to_numpy(arr):\n    return np.array(arr[1:-1].split(), dtype=int)\n\nconverters = {'pigment_network_hist': to_numpy, 'negative_network_hist': to_numpy, 'milia_like_hist': to_numpy, 'streaks_hist': to_numpy}\njdf = pd.read_csv(\"features/json_training.csv\", converters=converters)\nfeatures = list(jdf.drop(columns=[\"image_id\", \"melanoma\"]))\nxj = np.hstack([np.vstack(jdf[feat].to_numpy()) for feat in features])\nselector = SelectKBest(mutual_info_classif, k=5)\nselector.fit(xj, y)\nscores = selector.scores_\nselected_indices = np.argsort(selector.scores_)[-5:]\nprint(\"Selected features for JSON Features: \", selected_indices)\nxj = xj[:, selected_indices]\nx = np.c_[x, xj]\n\n\nx = MinMaxScaler().fit_transform(x)\n\nn_splits = 5\nkf = StratifiedShuffleSplit(n_splits=n_splits, test_size=0.4, random_state=1)\n\nacc_val_knn = np.empty((n_splits, 1))\nauc_val_knn = np.empty((n_splits, 1))\nacc_val_tree = np.empty((n_splits, 1))\nauc_val_tree = np.empty((n_splits, 1))\n\nk = 9\nthreshold = 0.2\n\n\nconf_mats = []\n\nfor i, (train_index, val_index) in enumerate(kf.split(x, y)):\n    x_train, x_val = x[train_index], x[val_index]\n    y_train, y_val = y[train_index], y[val_index]\n\n    clf = KNeighborsClassifier(n_neighbors=k)\n    clf = clf.fit(x_train, y_train)\n    y_pred_val = clf.predict(x_val)\n    y_prob_val = clf.predict_proba(x_val)[:,1]\n    \n    acc_val_knn[i] = accuracy_score(y_val, y_pred_val)\n    auc_val_knn[i] = roc_auc_score(y_val, y_prob_val)\n\n    conf_mats.append(confusion_matrix(y_val, y_prob_val > threshold))\n\n    clf = DecisionTreeClassifier(random_state=1)\n    clf.fit(x_train, y_train)\n    y_pred_val = clf.predict(x_val)\n    y_prob_val = clf.predict_proba(x_val)[:,1]\n\n    acc_val_tree[i] = accuracy_score(y_val, y_pred_val)\n    auc_val_tree[i] = roc_auc_score(y_val, y_prob_val)\n    \n\n    \n\nprint(\"KNN Accuracy scores\")\nprint(f\"acc_score: {np.mean(acc_val_knn):.3f} ±{np.std(acc_val_knn):.2f}\")\nprint(f\"auc_score: {np.mean(auc_val_knn):.3f} ±{np.std(auc_val_knn):.2f}\")\nprint(\"_\"*30)\nprint(\"Decision Tree Accuracy scores\")\nprint(f\"acc_score: {np.mean(acc_val_tree):.3f} ±{np.std(acc_val_tree):.2f}\")\nprint(f\"auc_score: {np.mean(auc_val_tree):.3f} ±{np.std(auc_val_tree):.2f}\")\n\nprint(f\"\\nConfusion matrix for threshold {threshold}\")\nconf_mats = np.stack(conf_mats, axis=2)\navg_conf_mat = np.mean(conf_mats, axis=2)\navg_conf_mat = normalize(avg_conf_mat, norm=\"l1\")\nprint(avg_conf_mat)\ndisplay = ConfusionMatrixDisplay(avg_conf_mat, display_labels=[\"Not melanoma\", \"Melanoma\"])\ndisplay.plot(cmap=plt.cm.Blues);",
   "metadata": {
    "cell_id": "588eec5de5434d87900821ddb3a8035b",
    "tags": [],
    "deepnote_to_be_reexecuted": false,
    "source_hash": "40efe5d3",
    "execution_start": 1649357634086,
    "execution_millis": 983,
    "output_cleared": true,
    "deepnote_cell_type": "code",
    "deepnote_cell_height": 1485,
    "deepnote_output_heights": [
     null,
     264
    ]
   },
   "outputs": [],
   "execution_count": null
  },
  {
   "cell_type": "code",
   "source": "df = pd.read_csv(\"features/features_training.csv\")\nfeatures = [\"asymmetry\", \"area\", \"perimeter\", \"color_dist_10_5\", \"color_score\"]\n\nx = df[features].to_numpy()\ny = np.array(df[\"melanoma\"])\n\nx = MinMaxScaler().fit_transform(x)\n\nn_splits = 5\nkf = StratifiedShuffleSplit(n_splits=n_splits, test_size=0.4, random_state=1)\n\nk = 9 \n\nfig, axes = plt.subplots(1, 3, figsize=(12, 3))\nfor threshold, ax in zip([0.1, 0.2, 0.35], axes.flatten()):\n    conf_mats = []\n    for i, (train_index, val_index) in enumerate(kf.split(x, y)):\n        x_train, x_val = x[train_index], x[val_index]\n        y_train, y_val = y[train_index], y[val_index]\n\n        clf = KNeighborsClassifier(n_neighbors=k)\n        clf = clf.fit(x_train, y_train)\n        y_pred_val = clf.predict(x_val)\n        y_prob_val = clf.predict_proba(x_val)[:,1]\n\n        conf_mats.append(confusion_matrix(y_val, y_prob_val > threshold))\n\n    conf_mats = np.stack(conf_mats, axis=2)\n    avg_conf_mat = np.mean(conf_mats, axis=2)\n    avg_conf_mat = normalize(avg_conf_mat, norm=\"l1\")\n    display = ConfusionMatrixDisplay(avg_conf_mat, display_labels=[\"Not melanoma\", \"Melanoma\"])\n    display.plot(cmap=plt.cm.Blues, ax=ax)\n    ax.set_title(f\"Threshold {threshold}\")\nplt.tight_layout()\nplt.savefig(\"figures/conf_mats.png\", bbox_inches=\"tight\", dpi=400)",
   "metadata": {
    "cell_id": "0b18e9a8b21c423f9bacca47f192ae54",
    "tags": [],
    "deepnote_to_be_reexecuted": false,
    "source_hash": "941f8816",
    "execution_start": 1649357635114,
    "execution_millis": 4531,
    "output_cleared": true,
    "deepnote_cell_type": "code",
    "deepnote_cell_height": 693,
    "deepnote_output_heights": [
     202
    ]
   },
   "outputs": [],
   "execution_count": null
  },
  {
   "cell_type": "code",
   "source": "fig, axes = plt.subplots(1, 3, figsize=(12, 3))\nfeatures = ['area', 'color_dist_5_10', 'perimeter']\nfor feature, ax in zip(features, axes.flatten()):\n    sns.kdeplot(feature, data=df, hue=\"melanoma\", fill=True, common_norm=False, ax=ax)\n    ax.set_title(f\"KDE plot for {feature}\")\n    \nplt.tight_layout()\nplt.savefig(\"figures/kde_plots.png\", bbox_inches=\"tight\", dpi=400)",
   "metadata": {
    "cell_id": "3794b457c6f54e27bce57e59ab98777c",
    "tags": [],
    "deepnote_to_be_reexecuted": false,
    "source_hash": "b2657b99",
    "execution_start": 1649357639651,
    "execution_millis": 3590,
    "output_cleared": true,
    "deepnote_cell_type": "code",
    "deepnote_cell_height": 207,
    "deepnote_output_heights": [
     210
    ]
   },
   "outputs": [],
   "execution_count": null
  },
  {
   "cell_type": "code",
   "source": "df = pd.read_csv(\"classifications/mean_classification.csv\")\n\nfig, axes = plt.subplots(1, 3, figsize=(16, 4))\n\nfeatures = [\"asymmetry\", \"border\", \"color\"]\nfeatures_class = [\"asymmetry_class\",\"border_class\", \"color_class\"]\ncolors = [\"g\", \"b\", \"r\"]\n\nfor i, ax in enumerate(axes.flatten()):\n    sns.scatterplot(data=df, x=features[i], y=features_class[i], ax=ax, color = colors[i], \n        hue=df[\"melanoma_true\"], alpha= 0.8)\n    ax.set_title(f'{features[i]}')\n    ax.set_xlabel(\"manual rating\")\n    ax.set_ylabel(\"computed rating\")\n    ax.set_xlim([0,10])\n    ax.set_ylim([0,10])\n\nplt.savefig(\"figures/scatter_features.png\", bbox_inches=\"tight\", dpi=400)",
   "metadata": {
    "cell_id": "f9695bc1d53d4c70bcfb9b0ecda34ebf",
    "tags": [],
    "deepnote_to_be_reexecuted": false,
    "source_hash": "fdf32a4f",
    "execution_start": 1649357643293,
    "execution_millis": 3876,
    "output_cleared": true,
    "deepnote_cell_type": "code",
    "deepnote_cell_height": 387,
    "deepnote_output_heights": [
     280
    ]
   },
   "outputs": [],
   "execution_count": null
  },
  {
   "cell_type": "code",
   "source": "y_true = np.array(df[\"melanoma_true\"])\ny_pred_manual = np.array(df[\"melanoma\"])\ny_pred_class = np.array(df[\"melanoma_class\"])\ny_prob_manual = np.array(df[\"melanoma_prob\"])\ny_prob_class = np.array(df[\"melanoma_prob_class\"])\nprint(round(accuracy_score(y_true, y_pred_manual), 2))\nprint(round(accuracy_score(y_true, y_pred_class), 2))\nprint(round(accuracy_score(y_pred_manual, y_pred_class), 2))\nprint()\nprint(roc_auc_score(y_true, y_prob_manual))\nprint(roc_auc_score(y_true, y_prob_class))",
   "metadata": {
    "cell_id": "c2f7cd6ecba942fea7a20c572b8fd7c3",
    "tags": [],
    "deepnote_to_be_reexecuted": false,
    "source_hash": "7efb6cca",
    "execution_start": 1649357647179,
    "execution_millis": 43,
    "owner_user_id": "9f7938c4-a781-4d9c-bc76-659de9a5470f",
    "output_cleared": true,
    "deepnote_cell_type": "code",
    "deepnote_cell_height": 261
   },
   "outputs": [],
   "execution_count": null
  },
  {
   "cell_type": "code",
   "source": "df = pd.read_csv(\"data/test_ground_truth.csv\")\nconverter = {\"probabilities\": lambda x: np.array(x[1:-1].split(), dtype=float)}\nclass_df = pd.read_csv(\"classifications/classification_test.csv\", converters=converter)\njson_df = pd.read_csv(\"classifications/classification_json_test.csv\", converters=converter)\ny_true = np.array(df[\"melanoma\"])\ny_pred_class = np.array(class_df[\"label\"])\ny_pred_json = np.array(json_df[\"label\"])\ny_prob_class = np.vstack(class_df[\"probabilities\"])[:, 1]\ny_prob_json = np.vstack(json_df[\"probabilities\"])[:, 1]\n\ntable = [[\"Normal classifier\"], [\"Classifier with JSON features\"]]\ntable[0].append(round(accuracy_score(y_true, y_pred_class), 3))\ntable[1].append(round(accuracy_score(y_true, y_pred_json), 3))\ntable[0].append(round(roc_auc_score(y_true, y_prob_class), 3))\ntable[1].append(round(roc_auc_score(y_true, y_prob_json), 3))\nwith open(\"figures/task4_table.tex\", \"w\") as f:\n    f.write(tabulate(table, headers=[\"Classifier\", \"Accuracy score\", \"ROC Auc score\"], tablefmt=\"latex_booktabs\"))",
   "metadata": {
    "cell_id": "03237895c9854d1d8593508e9dfeab33",
    "tags": [],
    "deepnote_to_be_reexecuted": false,
    "source_hash": "877055fd",
    "execution_start": 1649357647245,
    "execution_millis": 17,
    "output_cleared": true,
    "deepnote_cell_type": "code",
    "deepnote_cell_height": 369
   },
   "outputs": [],
   "execution_count": null
  },
  {
   "cell_type": "code",
   "source": "def decode_sp_index(rgb_val):\n    red = rgb_val[0]\n    green = rgb_val[1]\n    blue = rgb_val[2]\n    return red + (green << 8) + (blue << 16)\n\n\ndef visualize(img_file, sp_file, json_file, feature, ax, rgb=(0,0,0), opacity=30):\n    df = pd.read_json(json_file)\n    spmask = Image.open(sp_file)\n    spmask.thumbnail((600, 600), resample=False)\n    spmask = np.array(spmask)\n    indices = np.empty((spmask.shape[:2]))\n    for x in range(spmask.shape[0]):\n        for y in range(spmask.shape[1]):\n            indices[x,y] = decode_sp_index(spmask[x,y])\n    arr = np.empty_like(indices, dtype=bool)\n    for i, val in enumerate(df[feature]):\n        arr[np.where(indices == i)] = not val\n    mask = np.uint8(np.stack([np.full_like(arr, c, dtype=int) for c in rgb] + [(~arr)*opacity], axis=2))\n    mask = Image.fromarray(mask)\n    img = Image.open(img_file).convert(\"RGBA\")\n    img.paste(mask, mask=mask)\n    ax.imshow(np.array(img))\n    ax.axis(\"off\")\n    ax.set_title(feature)",
   "metadata": {
    "cell_id": "ee3319ace61c4788a2b169a7e21127bd",
    "tags": [],
    "deepnote_to_be_reexecuted": false,
    "source_hash": "34293ac6",
    "execution_start": 1649357647317,
    "execution_millis": 1,
    "output_cleared": true,
    "deepnote_cell_type": "code",
    "deepnote_cell_height": 531
   },
   "outputs": [],
   "execution_count": null
  },
  {
   "cell_type": "code",
   "source": "img_names = [\"ISIC_0010588\", \"ISIC_0014714\", \"ISIC_0015112\", \"ISIC_0010233\"]\nfeatures = [\"pigment_network\", \"negative_network\", \"milia_like_cyst\", \"streaks\"]\nfig, axes = plt.subplots(2, 2, figsize=(8, 6))\nfor img_id, feat, ax in zip(img_names, features, axes.flatten()):\n    img_file = f\"data/data_for_plots/{img_id}.jpg\"\n    sp_file = f\"data/data_for_plots/{img_id}_superpixels.png\"\n    json_file = f\"data/data_for_plots/{img_id}_features.json\"\n    visualize(img_file, sp_file, json_file, feat, ax, rgb=(29, 30, 230), opacity=40)\nplt.tight_layout()\nplt.savefig(\"figures/json_visualization.png\", bbox_inches=\"tight\", dpi=400)",
   "metadata": {
    "cell_id": "41352c243c8e433c9551f33f5cf47248",
    "tags": [],
    "deepnote_to_be_reexecuted": false,
    "source_hash": "b2057006",
    "execution_start": 1649357647361,
    "execution_millis": 35480,
    "output_cleared": true,
    "deepnote_cell_type": "code",
    "deepnote_cell_height": 243,
    "deepnote_output_heights": [
     426
    ]
   },
   "outputs": [],
   "execution_count": null
  },
  {
   "cell_type": "code",
   "source": "df = pd.read_csv(\"features/features_training.csv\")\ndrop_cols = [\"image_id\", \"melanoma\", \"color_sd_10_10\", \"color_dist_10_5\", \"color_sd_10_5\", \"color_dist_5_5\", \"color_sd_5_5\", \"color_dist_5_10\", \"color_sd_5_10\"]\nx_train = df.drop(drop_cols, axis=1).to_numpy()\nfeature_names = list(df)\nfor col in drop_cols:\n    feature_names.remove(col)\nfeature_names = np.array(feature_names)\ny = np.array(df[\"melanoma\"])\nclf = KNeighborsClassifier(n_neighbors=5)\nkf = StratifiedShuffleSplit(n_splits=5, test_size=0.4, random_state=1)\nn_features = 6\n\nselector = SequentialFeatureSelector(clf, n_features_to_select=n_features, direction=\"forward\", cv=kf)\nsfs_forward = selector.fit(x_train, y)\nprint(\"Forward selected features\")\nprint(feature_names[sfs_forward.get_support()])\nprint()\n\nselector = SequentialFeatureSelector(clf, n_features_to_select=n_features, direction=\"backward\", cv=kf)\nsfs_backward = selector.fit(x_train, y)\nprint(\"Backwards selected features\")\nprint(feature_names[sfs_backward.get_support()])\nprint()\n\nfeatures_fb = [feature_names[sfs.get_support()] for sfs in [sfs_forward, sfs_backward]]\n\nfor j, features in enumerate(features_fb):\n    x = df[features].to_numpy()\n    x = MinMaxScaler().fit_transform(x)\n    acc_val_knn = np.empty((n_splits, 1))\n    auc_val_knn = np.empty((n_splits, 1))\n    acc_val_tree = np.empty((n_splits, 1))\n    auc_val_tree = np.empty((n_splits, 1))\n\n    k = 5\n    for i, (train_index, val_index) in enumerate(kf.split(x, y)):\n        x_train, x_val = x[train_index], x[val_index]\n        y_train, y_val = y[train_index], y[val_index]\n\n        clf = KNeighborsClassifier(n_neighbors=k)\n        clf = clf.fit(x_train, y_train)\n        y_pred_val = clf.predict(x_val)\n        y_prob_val = clf.predict_proba(x_val)[:,1]\n        \n        acc_val_knn[i] = accuracy_score(y_val, y_pred_val)\n        auc_val_knn[i] = roc_auc_score(y_val, y_prob_val)\n\n        clf = DecisionTreeClassifier(random_state=1)\n        clf.fit(x_train, y_train)\n        y_pred_val = clf.predict(x_val)\n        y_prob_val = clf.predict_proba(x_val)[:,1]\n\n        acc_val_tree[i] = accuracy_score(y_val, y_pred_val)\n        auc_val_tree[i] = roc_auc_score(y_val, y_prob_val)\n        \n    print(\"KNN Accuracy scores\")\n    print(f\"acc_score: {np.mean(acc_val_knn):.3f} ±{np.std(acc_val_knn):.2f}\")\n    print(f\"auc_score: {np.mean(auc_val_knn):.3f} ±{np.std(auc_val_knn):.2f}\")\n    print(\"_\"*30)\n    print(\"Decision Tree Accuracy scores\")\n    print(f\"acc_score: {np.mean(acc_val_knn):.3f} ±{np.std(acc_val_tree):.2f}\")\n    print(f\"auc_score: {np.mean(auc_val_knn):.3f} ±{np.std(auc_val_tree):.2f}\")\n    print()",
   "metadata": {
    "cell_id": "844e6228314e49b1a733a90dfe40e898",
    "tags": [],
    "deepnote_to_be_reexecuted": false,
    "source_hash": "f831ec8f",
    "execution_start": 1649357711949,
    "execution_millis": 11815,
    "output_cleared": true,
    "deepnote_cell_type": "code",
    "deepnote_cell_height": 1197
   },
   "outputs": [],
   "execution_count": null
  },
  {
   "cell_type": "markdown",
   "source": "<a style='text-decoration:none;line-height:16px;display:flex;color:#5B5B62;padding:10px;justify-content:end;' href='https://deepnote.com?utm_source=created-in-deepnote-cell&projectId=6840a14b-d41a-45b9-abd0-892354334cb2' target=\"_blank\">\n<img alt='Created in deepnote.com' style='display:inline;max-height:16px;margin:0px;margin-right:7.5px;' src='data:image/svg+xml;base64,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' > </img>\nCreated in <span style='font-weight:600;margin-left:4px;'>Deepnote</span></a>",
   "metadata": {
    "tags": [],
    "created_in_deepnote_cell": true,
    "deepnote_cell_type": "markdown"
   }
  }
 ],
 "nbformat": 4,
 "nbformat_minor": 2,
 "metadata": {
  "orig_nbformat": 2,
  "deepnote": {
   "is_reactive": false
  },
  "deepnote_notebook_id": "44ad0719-cda0-460c-b887-55c85c0eb764",
  "deepnote_execution_queue": []
 }
}