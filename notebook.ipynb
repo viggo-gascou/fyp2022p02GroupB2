{
 "cells": [
  {
   "cell_type": "code",
   "metadata": {
    "tags": [],
    "cell_id": "b27d5426-617b-4550-84ea-3fca954bf01d",
    "deepnote_to_be_reexecuted": false,
    "source_hash": "594e1be1",
    "execution_start": 1648050232570,
    "execution_millis": 0,
    "output_cleared": true,
    "deepnote_cell_type": "code",
    "deepnote_cell_height": 207
   },
   "source": "import matplotlib.pyplot as plt\nimport numpy as np\nfrom skimage import exposure, filters\nfrom PIL import Image\nimport skimage.color\nimport skimage.io\nimport seaborn as sns\nimport math",
   "execution_count": null,
   "outputs": []
  },
  {
   "cell_type": "code",
   "metadata": {
    "cell_id": "10543662-321c-40f3-b54a-9d4b74b268d3",
    "tags": [],
    "deepnote_to_be_reexecuted": false,
    "source_hash": "c064d919",
    "execution_start": 1648049167343,
    "execution_millis": 423,
    "allow_embed": false,
    "output_cleared": true,
    "deepnote_cell_type": "code",
    "deepnote_cell_height": 99
   },
   "source": "im = plt.imread('resized_data/example_image_resized/ISIC_0015483.jpg')\nplt.imshow(im)",
   "execution_count": null,
   "outputs": []
  },
  {
   "cell_type": "code",
   "metadata": {
    "cell_id": "7517f581-d121-4099-97b3-5910e039d258",
    "tags": [],
    "deepnote_to_be_reexecuted": false,
    "source_hash": "187d0cc1",
    "execution_start": 1648049167753,
    "execution_millis": 343,
    "output_cleared": true,
    "deepnote_cell_type": "code",
    "deepnote_cell_height": 99
   },
   "source": "border=plt.imread('resized_data/example_segmentation_resized/ISIC_0015483_segmentation.png')\nplt.imshow(border, cmap='gray')",
   "execution_count": null,
   "outputs": []
  },
  {
   "cell_type": "code",
   "metadata": {
    "cell_id": "a135495c-f4f9-4f71-a0e1-ebaf16e90f78",
    "tags": [],
    "deepnote_to_be_reexecuted": false,
    "source_hash": "67901f8e",
    "execution_start": 1648049167998,
    "execution_millis": 214,
    "output_cleared": true,
    "deepnote_cell_type": "code",
    "deepnote_cell_height": 243
   },
   "source": "#adding the border to the picture\n\n#load the images as objects with Image.open()\n\nborderObj = Image.open('resized_data/example_segmentation_resized/ISIC_0001769_segmentation.png')\nimObj = Image.open('resized_data/example_image_resized/ISIC_0001769.jpg')\n\nborderObj.paste(imObj, (0,0), mask = borderObj) \n\nplt.imshow(borderObj, cmap='gray')",
   "execution_count": null,
   "outputs": []
  },
  {
   "cell_type": "code",
   "metadata": {
    "cell_id": "f1cfef99-28d2-413c-b882-4165b96fcb19",
    "tags": [],
    "deepnote_to_be_reexecuted": false,
    "source_hash": "c29ad5ee",
    "execution_start": 1648049168220,
    "execution_millis": 588,
    "output_cleared": true,
    "deepnote_cell_type": "code",
    "deepnote_cell_height": 675
   },
   "source": "#greyscale histogram, Color\n#image = skimage.io.imread(fname='resized_data/example_image_resized/ISIC_0015372.jpg', as_gray=True)\n\n#show the picture\nfig, ax = plt.subplots()\nplt.imshow(borderObj, cmap='gray')\nplt.show()\n\n\n#Create the plot with 256 bins (for each range of color)\n# histogram, bin_edges = np.histogram(borderObj, bins=255, range=(1, 256))\n# fig = plt.figure()\n# ax = fig.add_axes((0,0,1,1))\n# plt.title(\"Grayscale Histogram\")\n# plt.xlabel(\"grayscale value\")\n# plt.ylabel(\"pixel count\")\n# plt.xlim([0, 256])\n# sns.lineplot(bin_edges[1:], histogram, ax=ax)  # <- or here\n# plt.show()\n# sns.histplot(np.array(borderObj))\n\n\n# or do it with the colors\n\n#img = im.copy()\n#img[border==0] = 0\n#plt.imshow(img)\nborder_arr = np.array(borderObj)\nborder_arr = border_arr[border_arr != 0]\nsns.histplot(border_arr, bins=128)\n\nprint(border_arr)\n\nprint(border_arr.shape)",
   "execution_count": null,
   "outputs": []
  },
  {
   "cell_type": "code",
   "metadata": {
    "cell_id": "083d4524b33748eaa56e43514281d787",
    "tags": [],
    "deepnote_to_be_reexecuted": false,
    "source_hash": "f5c2b4b4",
    "execution_start": 1648049168812,
    "execution_millis": 480,
    "output_cleared": true,
    "deepnote_cell_type": "code",
    "deepnote_cell_height": 423
   },
   "source": "from skimage import morphology\n\nstruct_el = morphology.disk(2)\n\n# Use this \"brush\" to erode the image - eat away at the borders\n\nmask_eroded = morphology.binary_erosion(border, struct_el)\n\n# Show side by side (depending on brush size, you might not see a difference visually)\nfig, axes = plt.subplots(nrows=1, ncols=2, figsize=(5, 3))\naxes[0].imshow(border, cmap='gray')\naxes[1].imshow(mask_eroded, cmap='gray')\nfig.tight_layout()\n\n# Verify the new mask is smaller\nnew_area= np.sum(mask_eroded)\narea = np.sum(border)\n\nprint(area)\nprint(new_area)",
   "execution_count": null,
   "outputs": []
  },
  {
   "cell_type": "code",
   "metadata": {
    "cell_id": "bf6c318657854335bdb1fab4f07ddaaf",
    "tags": [],
    "deepnote_to_be_reexecuted": false,
    "source_hash": "458f73a1",
    "execution_start": 1648049169295,
    "execution_millis": 264,
    "output_cleared": true,
    "deepnote_cell_type": "code",
    "deepnote_cell_height": 153
   },
   "source": "from skimage import transform\nimg = plt.imread(\"resized_data/example_segmentation_resized/ISIC_0001769_segmentation.png\")\nimg_rot = transform.rotate(img, 0)\nprint(img.shape)\nplt.imshow(img, cmap=\"gray\");",
   "execution_count": null,
   "outputs": []
  },
  {
   "cell_type": "code",
   "metadata": {
    "cell_id": "5a9db920ba484a7da31f41bacc177be8",
    "tags": [],
    "deepnote_to_be_reexecuted": false,
    "source_hash": "a57bc92c",
    "execution_start": 1648052200830,
    "execution_millis": 464,
    "output_cleared": true,
    "deepnote_cell_type": "code",
    "deepnote_cell_height": 585
   },
   "source": "from skimage.segmentation import slic\nfrom skimage.segmentation import mark_boundaries\nfrom skimage.util import img_as_float\n\nborder = Image.open('resized_data/example_segmentation_resized/ISIC_0015483_segmentation.png').convert(\"RGB\")\nmask = Image.open('resized_data/example_segmentation_resized/ISIC_0015483_segmentation.png')\nimg = Image.open('resized_data/example_image_resized/ISIC_0015483.jpg').convert(\"RGB\")\n\nborder.paste(img, mask=mask)\n\nsom = np.array(border)\nprint(som[200,300,:])\n\nsegments = slic(som, n_segments = 10, sigma = 5, mask=mask)\n\nfig = plt.figure(\"Superpixels -- %d segments\" % (10))\nax = fig.add_subplot(1, 1, 1)\nax.imshow(mark_boundaries(som, segments))\nplt.axis(\"off\")\n\n\n\n\n#plt.show()\navg_color = [np.round(np.mean(som[segments==s], axis=0)) for s in np.unique(segments)]\n\navg_color\navg_color = avg_color[1:]\nnp.std(avg_color, axis = 0)",
   "execution_count": null,
   "outputs": []
  },
  {
   "cell_type": "code",
   "metadata": {
    "cell_id": "35ffc320441344c3a4a62e447b84c101",
    "tags": [],
    "deepnote_to_be_reexecuted": false,
    "source_hash": "bb7c5bf",
    "execution_start": 1648056482610,
    "execution_millis": 1,
    "output_cleared": true,
    "deepnote_cell_type": "code",
    "deepnote_cell_height": 351
   },
   "source": "# NOTE: Burde vi tage mean(red), E[r], fra hele billedet(inden det segmenteres, men med masken rundt om) til at regne Var(r), \n# eller kun fra vektoren med average farver, som jeg gør her? Hvad giver det mest brugbare resultat?\n\ndef computeColorSD(avg_color_array):\n    \"\"\"\n    Computes the Standard Deviation in the individual color vectors (R, G, B) of the average color array.\n    takes average color array as input.\n    returns tuple(SD(r), SD(g), SD(b)).\n    \"\"\"\n    avg_colors = np.array(avg_color_array)\n    red, green, blue = avg_colors[:,0], avg_colors[:,1], avg_colors[:,2]\n    mean_r, mean_g, mean_b = sum(red)/len(red), sum(green)/len(green), sum(blue)/len(blue)\n    var_r = sum(red**2)/len(red) - mean_r**2\n    var_g = sum(green**2)/len(green) - mean_g**2\n    var_b = sum(blue**2)/len(blue) - mean_b**2\n    return math.sqrt(var_r), math.sqrt(var_g), math.sqrt(var_b)",
   "execution_count": null,
   "outputs": []
  },
  {
   "cell_type": "code",
   "metadata": {
    "cell_id": "6833c4b2cbf94fa6ad244f6e736c2b8c",
    "tags": [],
    "deepnote_to_be_reexecuted": false,
    "source_hash": "7e87968",
    "execution_start": 1648056485904,
    "execution_millis": 1,
    "output_cleared": true,
    "deepnote_cell_type": "code",
    "deepnote_cell_height": 351
   },
   "source": "def computeAvgDistance(avg_color_array):\n    \"\"\"\n    Computes the Euclidean distance between all colors in the average color array.\n    takes average color array as input.\n    returns average distance as float.\n    \"\"\"\n    avg_colors = avg_color_array\n    distances = []\n    for i, color in enumerate(avg_colors):\n        for j in range(i+1, len(avg_colors)):\n            R_1, R_2 = avg_colors[i][0], avg_colors[j][0]\n            G_1, G_2 = avg_colors[i][1], avg_colors[j][1]\n            B_1, B_2 = avg_colors[i][2], avg_colors[j][2]\n            distance = math.sqrt((R_1 - R_2)**2+(G_1 - G_2)**2+(B_1 - B_2)**2)\n            distances.append(distance)\n    return sum(distances)/len(distances) # Could also return range(min, max) if we want to use that to say something.",
   "execution_count": null,
   "outputs": []
  },
  {
   "cell_type": "code",
   "metadata": {
    "cell_id": "42d8a1d839cc44adb5ae119e1bb1555c",
    "tags": [],
    "deepnote_to_be_reexecuted": false,
    "source_hash": "c3e83f37",
    "execution_start": 1648056489615,
    "execution_millis": 9,
    "output_cleared": true,
    "deepnote_cell_type": "code",
    "deepnote_cell_height": 207
   },
   "source": "print(\"Testing average color and SD(color) for two very different pictures of skin/lesions.\\n\")\nprint(\"Even skin color:\")\nprint(\"Average color distance\", round(computeAvgDistance(avg_color2)))\nprint(\"Standard deviation in color (R,G,B) {}\".format(computeColorSD(avg_color2)))\nprint()\nprint(\"Colorful lesion:\")\nprint(\"Average color distance\", round(computeAvgDistance(avg_color)))\nprint(\"Standard deviation in color (R,G,B) {}\".format(computeColorSD(avg_color)))",
   "execution_count": null,
   "outputs": []
  },
  {
   "cell_type": "code",
   "metadata": {
    "cell_id": "cb36dba6e6e74490937ebba12e859c1b",
    "tags": [],
    "deepnote_to_be_reexecuted": false,
    "source_hash": "4fa60fb4",
    "execution_start": 1648049555003,
    "execution_millis": 601,
    "output_cleared": true,
    "deepnote_cell_type": "code",
    "deepnote_cell_height": 513
   },
   "source": "border2 = Image.open('resized_data/example_segmentation_resized/ISIC_0014616_segmentation.png').convert(\"RGB\")\nmask2 = Image.open('resized_data/example_segmentation_resized/ISIC_0014616_segmentation.png')\nimg2 = Image.open('resized_data/example_image_resized/ISIC_0014616.jpg').convert(\"RGB\")\n\nborder2.paste(img2, mask=mask2)\n#border.show()\n\n\nsom2 = np.array(border2)\n\n\nsegments2 = slic(som2, n_segments = 10, sigma = 5, mask=mask2)\n\nfig = plt.figure(\"Superpixels -- %d segments\" % (10))\nax = fig.add_subplot(1, 1, 1)\nax.imshow(mark_boundaries(som2, segments2))\nplt.axis(\"off\")\n\n\n\n\n#plt.show()\navg_color2 = [np.round(np.mean(som2[segments2==s], axis=0)) for s in np.unique(segments2)]\navg_color2\nnp.std(avg_color2, axis = 0)",
   "execution_count": null,
   "outputs": []
  },
  {
   "cell_type": "code",
   "metadata": {
    "cell_id": "66437776c0cd437cb26fcb9dbd4497c2",
    "tags": [],
    "deepnote_to_be_reexecuted": false,
    "source_hash": "956601f9",
    "execution_start": 1648049516160,
    "execution_millis": 5,
    "output_cleared": true,
    "deepnote_cell_type": "code",
    "deepnote_cell_height": 81
   },
   "source": "",
   "execution_count": null,
   "outputs": []
  },
  {
   "cell_type": "code",
   "metadata": {
    "cell_id": "6362d3b17e634f259d5d0e9476f700ef",
    "tags": [],
    "output_cleared": true,
    "deepnote_cell_type": "code"
   },
   "source": "",
   "execution_count": null,
   "outputs": []
  },
  {
   "cell_type": "markdown",
   "source": "<a style='text-decoration:none;line-height:16px;display:flex;color:#5B5B62;padding:10px;justify-content:end;' href='https://deepnote.com?utm_source=created-in-deepnote-cell&projectId=6840a14b-d41a-45b9-abd0-892354334cb2' target=\"_blank\">\n<img alt='Created in deepnote.com' style='display:inline;max-height:16px;margin:0px;margin-right:7.5px;' src='data:image/svg+xml;base64,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' > </img>\nCreated in <span style='font-weight:600;margin-left:4px;'>Deepnote</span></a>",
   "metadata": {
    "tags": [],
    "created_in_deepnote_cell": true,
    "deepnote_cell_type": "markdown"
   }
  }
 ],
 "nbformat": 4,
 "nbformat_minor": 2,
 "metadata": {
  "orig_nbformat": 2,
  "deepnote": {
   "is_reactive": false
  },
  "deepnote_notebook_id": "645d882c-7ff8-44ab-84da-c5030d73db9f",
  "deepnote_execution_queue": []
 }
}