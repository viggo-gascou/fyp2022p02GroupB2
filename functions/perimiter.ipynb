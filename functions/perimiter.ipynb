{
 "cells": [
  {
   "cell_type": "code",
   "metadata": {
    "tags": [],
    "cell_id": "07915cf5-131a-4b5b-81b7-5965f952a485",
    "deepnote_to_be_reexecuted": false,
    "source_hash": "ecc7ee80",
    "execution_start": 1648288796767,
    "execution_millis": 1,
    "deepnote_cell_type": "code",
    "deepnote_cell_height": 135
   },
   "source": "import numpy as np\nimport matplotlib.pyplot as plt\nfrom scipy.ndimage import convolve\nfrom skimage.measure import regionprops",
   "outputs": [],
   "execution_count": null
  },
  {
   "cell_type": "code",
   "source": "img = plt.imread(\"../fullsize_segmentation/ISIC_0014931_segmentation.png\")\nimg = plt.imread(\"../resized_data/example_segmentation_resized/ISIC_0015372_segmentation.png\")\nimg = np.pad(img, 3)",
   "metadata": {
    "cell_id": "8518b5dec7544b92af5b6d23e5ff5ea3",
    "tags": [],
    "deepnote_to_be_reexecuted": false,
    "source_hash": "f1c032e3",
    "execution_start": 1648290391665,
    "execution_millis": 291,
    "deepnote_cell_type": "code",
    "deepnote_cell_height": 117
   },
   "outputs": [],
   "execution_count": null
  },
  {
   "cell_type": "code",
   "source": "def perim(img):\n    perimeter = 0\n    for x1, x2 in zip(range(img.shape[0] - 1), range(3, img.shape[0] - 1)):\n        for y1, y2 in zip(range(img.shape[1] - 1), range(3, img.shape[1] - 1)):\n            view = img[x1:x2, y1:y2]\n            if view[1, 1] and np.sum(view) < 9:\n                perimeter += 1\n    return perimeter",
   "metadata": {
    "cell_id": "f16573321c8d4d8585a800993a6de888",
    "tags": [],
    "deepnote_to_be_reexecuted": false,
    "source_hash": "109bf79c",
    "execution_start": 1648290271714,
    "execution_millis": 6,
    "deepnote_cell_type": "code",
    "deepnote_cell_height": 207
   },
   "outputs": [],
   "execution_count": null
  },
  {
   "cell_type": "code",
   "source": "%%timeit\nperim(img)",
   "metadata": {
    "cell_id": "64fec447556246a0a58f28b4f8510af3",
    "tags": [],
    "deepnote_to_be_reexecuted": false,
    "source_hash": "dc40b3ed",
    "execution_start": 1648290408367,
    "execution_millis": 14926,
    "deepnote_cell_type": "code",
    "deepnote_cell_height": 130.1875
   },
   "outputs": [
    {
     "name": "stdout",
     "text": "1.88 s ± 44.5 ms per loop (mean ± std. dev. of 7 runs, 1 loop each)\n",
     "output_type": "stream"
    }
   ],
   "execution_count": null
  },
  {
   "cell_type": "code",
   "source": "%%timeit\nkernel = np.array([[-1, -1, -1], [-1, 8, -1], [-1, -1, -1]])\nperimeter = len(np.where(convolve(img, kernel) < 0, 1, 0)[0])",
   "metadata": {
    "cell_id": "38176d2ef76740e895f598d82e40243f",
    "tags": [],
    "deepnote_to_be_reexecuted": false,
    "source_hash": "954d9540",
    "execution_start": 1648290423294,
    "execution_millis": 5077,
    "deepnote_cell_type": "code",
    "deepnote_cell_height": 148.1875
   },
   "outputs": [
    {
     "name": "stdout",
     "text": "6.24 ms ± 169 µs per loop (mean ± std. dev. of 7 runs, 100 loops each)\n",
     "output_type": "stream"
    }
   ],
   "execution_count": null
  },
  {
   "cell_type": "code",
   "source": "%%timeit\nregionprops(img.astype(int))[0].perimeter",
   "metadata": {
    "cell_id": "cde0f7699d2e4a29bfc07983578e2be3",
    "tags": [],
    "deepnote_to_be_reexecuted": false,
    "source_hash": "c8bb510",
    "execution_start": 1648290428371,
    "execution_millis": 10432,
    "deepnote_cell_type": "code",
    "deepnote_cell_height": 130.1875
   },
   "outputs": [
    {
     "name": "stdout",
     "text": "12.8 ms ± 192 µs per loop (mean ± std. dev. of 7 runs, 100 loops each)\n",
     "output_type": "stream"
    }
   ],
   "execution_count": null
  },
  {
   "cell_type": "code",
   "source": "perim(img)\n# about 1m 30s on fullsize img",
   "metadata": {
    "cell_id": "bf6aeeb3e5494ce8a95d19c6807e37e3",
    "tags": [],
    "deepnote_to_be_reexecuted": false,
    "source_hash": "c7669435",
    "execution_start": 1648290395498,
    "execution_millis": 1764,
    "deepnote_cell_type": "code",
    "deepnote_cell_height": 136.1875,
    "deepnote_output_heights": [
     21.1875
    ]
   },
   "outputs": [
    {
     "output_type": "execute_result",
     "execution_count": 74,
     "data": {
      "text/plain": "1852"
     },
     "metadata": {}
    }
   ],
   "execution_count": null
  },
  {
   "cell_type": "code",
   "source": "regionprops(img.astype(int))[0].perimeter",
   "metadata": {
    "cell_id": "67650358cdb24b55acfee5131772487c",
    "tags": [],
    "deepnote_to_be_reexecuted": false,
    "source_hash": "37b58a",
    "execution_start": 1648290398678,
    "execution_millis": 13,
    "deepnote_cell_type": "code",
    "deepnote_cell_height": 118.1875,
    "deepnote_output_heights": [
     21.1875
    ]
   },
   "outputs": [
    {
     "output_type": "execute_result",
     "execution_count": 75,
     "data": {
      "text/plain": "1820.953318805774"
     },
     "metadata": {}
    }
   ],
   "execution_count": null
  },
  {
   "cell_type": "code",
   "source": "kernel = np.array([[-1, -1, -1], [-1, 8, -1], [-1, -1, -1]])\nperimeter = np.where(convolve(img, kernel) < 0, 1, 0)\nprint(np.sum(perimeter))\nfig, axes = plt.subplots(1, 2, figsize=(20,10))\nfor ax, im in zip(axes, [img, perimeter]):\n    ax.imshow(im, cmap=\"gray\")\n    ax.axis(\"off\")",
   "metadata": {
    "cell_id": "ef40af7ecb1444f78d74be7535008eac",
    "tags": [],
    "deepnote_to_be_reexecuted": false,
    "source_hash": "258bf48d",
    "execution_start": 1648290399944,
    "execution_millis": 427,
    "deepnote_cell_type": "code",
    "deepnote_cell_height": 605.1875,
    "deepnote_output_heights": [
     null,
     354
    ]
   },
   "outputs": [
    {
     "name": "stdout",
     "text": "1860\n",
     "output_type": "stream"
    },
    {
     "data": {
      "text/plain": "<Figure size 1440x720 with 2 Axes>",
      "image/png": "[encoded data removed]"
     },
     "metadata": {
      "needs_background": "light",
      "image/png": {
       "width": 1130,
       "height": 352
      }
     },
     "output_type": "display_data"
    }
   ],
   "execution_count": null
  },
  {
   "cell_type": "code",
   "source": "from color_score import color_score\nfrom color_features import color_features",
   "metadata": {
    "cell_id": "ed95708d29204027abb1b6759db6b402",
    "tags": [],
    "deepnote_to_be_reexecuted": false,
    "source_hash": "e55c78d4",
    "execution_start": 1648289953655,
    "execution_millis": 9,
    "deepnote_cell_type": "code",
    "deepnote_cell_height": 99
   },
   "outputs": [],
   "execution_count": null
  },
  {
   "cell_type": "code",
   "source": "%%timeit\ncolor_score(\"../resized_data/example_image_resized/ISIC_0001769.jpg\", \"../resized_data/example_segmentation_resized/ISIC_0001769_segmentation.png\")",
   "metadata": {
    "cell_id": "e1a2b10539094874b560066dc6758174",
    "tags": [],
    "deepnote_to_be_reexecuted": false,
    "source_hash": "ea5f8d6",
    "execution_start": 1648289973887,
    "execution_millis": 10075,
    "deepnote_cell_type": "code",
    "deepnote_cell_height": 130.1875,
    "deepnote_output_heights": [
     21.1875
    ]
   },
   "outputs": [
    {
     "name": "stdout",
     "text": "12.4 ms ± 256 µs per loop (mean ± std. dev. of 7 runs, 100 loops each)\n",
     "output_type": "stream"
    }
   ],
   "execution_count": null
  },
  {
   "cell_type": "code",
   "source": "%%timeit\ncolor_features(\"../resized_data/example_image_resized/ISIC_0001769.jpg\", \"../resized_data/example_segmentation_resized/ISIC_0001769_segmentation.png\")",
   "metadata": {
    "cell_id": "1c43a61e0e5146e6a41f61af4e694890",
    "tags": [],
    "deepnote_to_be_reexecuted": false,
    "source_hash": "f13fe92e",
    "execution_start": 1648289988812,
    "execution_millis": 2036,
    "deepnote_cell_type": "code",
    "deepnote_cell_height": 130.1875
   },
   "outputs": [
    {
     "name": "stdout",
     "text": "250 ms ± 14.7 ms per loop (mean ± std. dev. of 7 runs, 1 loop each)\n",
     "output_type": "stream"
    }
   ],
   "execution_count": null
  },
  {
   "cell_type": "code",
   "source": "",
   "metadata": {
    "cell_id": "ed9ba32d329c4616b466188c736fab9a",
    "tags": [],
    "deepnote_cell_type": "code",
    "deepnote_cell_height": 66
   },
   "outputs": [],
   "execution_count": null
  },
  {
   "cell_type": "markdown",
   "source": "<a style='text-decoration:none;line-height:16px;display:flex;color:#5B5B62;padding:10px;justify-content:end;' href='https://deepnote.com?utm_source=created-in-deepnote-cell&projectId=6840a14b-d41a-45b9-abd0-892354334cb2' target=\"_blank\">\n<img alt='Created in deepnote.com' style='display:inline;max-height:16px;margin:0px;margin-right:7.5px;' src='data:image/svg+xml;base64,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' > </img>\nCreated in <span style='font-weight:600;margin-left:4px;'>Deepnote</span></a>",
   "metadata": {
    "tags": [],
    "created_in_deepnote_cell": true,
    "deepnote_cell_type": "markdown"
   }
  }
 ],
 "nbformat": 4,
 "nbformat_minor": 2,
 "metadata": {
  "orig_nbformat": 2,
  "deepnote": {
   "is_reactive": false
  },
  "deepnote_notebook_id": "e7bfdb0d-bc0d-4072-81bc-09967cd5cac2",
  "deepnote_execution_queue": []
 }
}